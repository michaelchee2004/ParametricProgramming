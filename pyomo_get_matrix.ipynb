{
 "cells": [
  {
   "cell_type": "code",
   "execution_count": 25,
   "metadata": {},
   "outputs": [],
   "source": [
    "from pyomo.environ import *\n",
    "import numpy as np\n",
    "\n",
    "class OptiModel:\n",
    "    \n",
    "    def __init__(self):\n",
    "        self.m = ConcreteModel()\n",
    "        self.m.dual = Suffix(direction=Suffix.IMPORT)\n",
    "        self.m.theta1 = Var(initialize=0.0, domain=NonNegativeReals)\n",
    "        self.m.theta2 = Var(initialize=0.0, domain=NonNegativeReals)\n",
    "        self.m.theta1.fixed = True\n",
    "        self.m.theta2.fixed = True\n",
    "        self.m.x1 = Var(domain=NonNegativeReals)\n",
    "        self.m.x2 = Var(domain=NonNegativeReals)\n",
    "        solverpath = 'C:\\\\w64\\\\glpsol'\n",
    "        self.solver = SolverFactory('glpk', executable=solverpath)\n",
    "        \n",
    "        self.m.constraints = ConstraintList()\n",
    "        constraint_list = [\n",
    "            self.c1_lhs(),\n",
    "            self.c2_lhs(),\n",
    "            self.c3_lhs()\n",
    "        ]\n",
    "        for c in constraint_list:\n",
    "            c_tuple = self.to_tuple(c)\n",
    "            self.m.constraints.add(c_tuple)\n",
    "            \n",
    "        self.m.obj = Objective(expr=self.obj_expr())\n",
    "\n",
    "        # !!! important to know if c.expr gives all constraints for indexed constraints\n",
    "        # the answer is no! See notion link.\n",
    "        \n",
    "    def c1_lhs(self):\n",
    "        return 0.8*self.m.x1 + 0.44*self.m.x2 - 24000.0 - self.m.theta1\n",
    "        \n",
    "    def c2_lhs(self):\n",
    "        return 0.05*self.m.x1 + 0.1*self.m.x2 - 2000.0 - self.m.theta2\n",
    "        \n",
    "    def c3_lhs(self):\n",
    "        return 0.1*self.m.x1 + 0.36*self.m.x2 - 6000.0\n",
    "\n",
    "    def obj_expr(self):\n",
    "        return - 8.1*self.m.x1 - 10.8*self.m.x2\n",
    "    \n",
    "    def to_tuple(self, lhs):\n",
    "        return (None, lhs, 0.0)\n",
    "        \n",
    "    def solve(self):\n",
    "        self.solver.solve(self.m, tee=True)\n",
    "    \n",
    "    def write(self):\n",
    "        print(self.m.x1.value, self.m.x2.value)"
   ]
  },
  {
   "cell_type": "code",
   "execution_count": 26,
   "metadata": {},
   "outputs": [
    {
     "name": "stdout",
     "output_type": "stream",
     "text": [
      "GLPSOL: GLPK LP/MIP Solver, v4.65\n",
      "Parameter(s) specified in the command line:\n",
      " --write C:\\Users\\user1\\AppData\\Local\\Temp\\tmp9bqq8r_b.glpk.raw --wglp C:\\Users\\user1\\AppData\\Local\\Temp\\tmpq3oq649x.glpk.glp\n",
      " --cpxlp C:\\Users\\user1\\AppData\\Local\\Temp\\tmptcrmr5ux.pyomo.lp\n",
      "Reading problem data from 'C:\\Users\\user1\\AppData\\Local\\Temp\\tmptcrmr5ux.pyomo.lp'...\n",
      "4 rows, 3 columns, 7 non-zeros\n",
      "31 lines were read\n",
      "Writing problem data to 'C:\\Users\\user1\\AppData\\Local\\Temp\\tmpq3oq649x.glpk.glp'...\n",
      "23 lines were written\n",
      "GLPK Simplex Optimizer, v4.65\n",
      "4 rows, 3 columns, 7 non-zeros\n",
      "Preprocessing...\n",
      "3 rows, 2 columns, 6 non-zeros\n",
      "Scaling...\n",
      " A: min|aij| =  5.000e-02  max|aij| =  8.000e-01  ratio =  1.600e+01\n",
      "GM: min|aij| =  6.252e-01  max|aij| =  1.600e+00  ratio =  2.558e+00\n",
      "EQ: min|aij| =  3.909e-01  max|aij| =  1.000e+00  ratio =  2.558e+00\n",
      "Constructing initial basis...\n",
      "Size of triangular part is 3\n",
      "*     0: obj =   0.000000000e+00 inf =   0.000e+00 (2)\n",
      "*     2: obj =  -2.867586207e+05 inf =   0.000e+00 (0)\n",
      "OPTIMAL LP SOLUTION FOUND\n",
      "Time used:   0.0 secs\n",
      "Memory used: 0.0 Mb (40424 bytes)\n",
      "Writing basic solution to 'C:\\Users\\user1\\AppData\\Local\\Temp\\tmp9bqq8r_b.glpk.raw'...\n",
      "16 lines were written\n",
      "26206.8965517241 6896.55172413793\n"
     ]
    }
   ],
   "source": [
    "mymodel = OptiModel()\n",
    "mymodel.solve()\n",
    "mymodel.write()"
   ]
  },
  {
   "cell_type": "markdown",
   "metadata": {},
   "source": [
    "decompose term:"
   ]
  },
  {
   "cell_type": "code",
   "execution_count": 27,
   "metadata": {},
   "outputs": [
    {
     "data": {
      "text/plain": [
       "(True,\n",
       " [(0.8, <pyomo.core.base.var.SimpleVar at 0x1a2c24540b8>),\n",
       "  (0.44, <pyomo.core.base.var.SimpleVar at 0x1a2c2454128>),\n",
       "  (-24000.0, None),\n",
       "  (-1, <pyomo.core.base.var.SimpleVar at 0x1a2c24339e8>)])"
      ]
     },
     "execution_count": 27,
     "metadata": {},
     "output_type": "execute_result"
    }
   ],
   "source": [
    "expr.current.decompose_term(mymodel.m.constraints[1]._body)"
   ]
  }
 ],
 "metadata": {
  "kernelspec": {
   "display_name": "Python 3",
   "language": "python",
   "name": "python3"
  },
  "language_info": {
   "codemirror_mode": {
    "name": "ipython",
    "version": 3
   },
   "file_extension": ".py",
   "mimetype": "text/x-python",
   "name": "python",
   "nbconvert_exporter": "python",
   "pygments_lexer": "ipython3",
   "version": "3.6.5"
  }
 },
 "nbformat": 4,
 "nbformat_minor": 2
}
