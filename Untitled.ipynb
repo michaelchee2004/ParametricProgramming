{
 "cells": [
  {
   "cell_type": "markdown",
   "metadata": {},
   "source": [
    "The class need the following functions:\n",
    "- solve for theta\n",
    "- solve for x\n",
    "- form M, N\n",
    "- Calculate x, lambda as function of theta\n",
    "- Calculate boundaries of the region"
   ]
  },
  {
   "cell_type": "code",
   "execution_count": 391,
   "metadata": {},
   "outputs": [],
   "source": [
    "import pyomo.environ as pmo\n",
    "import numpy as np\n",
    "\n",
    "class GenericSolver:\n",
    "    \n",
    "    def __init__(self, A, b, m):\n",
    "        # get no of var and constraints\n",
    "        self.x_card = np.shape(A)[1]\n",
    "        self.c_card = np.shape(A)[0]\n",
    "        \n",
    "        # transform A from matrix to dict\n",
    "        A_init = {}\n",
    "        for i in range(self.c_card):\n",
    "            for j in range(self.x_card):\n",
    "                A_init[(i+1, j+1)] = A[i, j]\n",
    "        \n",
    "        # transform b from vector to dict\n",
    "        b_init = {}\n",
    "        for i in range(self.c_card):\n",
    "            b_init[i+1] = b[i]\n",
    "            \n",
    "        # transform m from vector to dict\n",
    "        m_init = {}\n",
    "        for i in range(self.x_card):\n",
    "            m_init[i+1] = m[i]\n",
    "        \n",
    "        # define pyomo model\n",
    "        self.model = pmo.ConcreteModel()\n",
    "        self.model.n = pmo.RangeSet(1, self.x_card)\n",
    "        self.model.c = pmo.RangeSet(1, self.c_card)\n",
    "        self.model.A = pmo.Param(self.model.c, self.model.n, initialize=A_init)\n",
    "        self.model.b = pmo.Param(self.model.c, initialize=b_init)\n",
    "        self.model.m = pmo.Param(self.model.n, initialize=m_init)\n",
    "        self.model.x = pmo.Var(self.model.n, domain=pmo.NonNegativeReals)\n",
    "        self.model.dual = pmo.Suffix(direction=pmo.Suffix.IMPORT)\n",
    "        self.model.constraints = pmo.ConstraintList()\n",
    "        for c in self.model.c:\n",
    "            self.model.constraints.add(\n",
    "                sum(self.model.A[c, i] * self.model.x[i] for i in self.model.n) <= self.model.b[c]\n",
    "            )\n",
    "        self.model.obj = pmo.Objective(\n",
    "            expr=sum(self.model.m[i] * self.model.x[i] for i in self.model.n)\n",
    "        )\n",
    "        \n",
    "        # define solver\n",
    "        self.solverpath = 'C:\\\\w64\\\\glpsol'\n",
    "        self.solver = pmo.SolverFactory('glpk', executable=self.solverpath)\n",
    "#         self.solver = pmo.SolverFactory('cplex')\n",
    "    \n",
    "        # define empty output entities\n",
    "        self.soln = None\n",
    "        self.duals = None\n",
    "    \n",
    "    def solve(self):\n",
    "        self.solver.solve(self.model, tee=False)\n",
    "        self.soln = np.empty([self.x_card])\n",
    "        for i in range(self.x_card):\n",
    "            self.soln[i] = self.model.x[i+1].value\n",
    "        self.duals = np.empty([self.c_card])\n",
    "        for c in range(self.c_card):\n",
    "            self.duals[c] = -self.model.dual[self.model.constraints[c+1]]"
   ]
  },
  {
   "cell_type": "code",
   "execution_count": 392,
   "metadata": {},
   "outputs": [],
   "source": [
    "class RedundancyChecker:\n",
    "    \n",
    "    def __init__(self, A, b):\n",
    "        self.A = A\n",
    "        self.b = b\n",
    "        \n",
    "        # get no of var and constraints\n",
    "        self.x_card = np.shape(A)[1]\n",
    "        self.c_card = np.shape(A)[0]\n",
    "        \n",
    "        # transform A from matrix to dict\n",
    "        A_init = {}\n",
    "        for i in range(self.c_card):\n",
    "            for j in range(self.x_card):\n",
    "                A_init[(i+1, j+1)] = A[i, j]\n",
    "        \n",
    "        # transform b from vector to dict\n",
    "        b_init = {}\n",
    "        for i in range(self.c_card):\n",
    "            b_init[i+1] = b[i]\n",
    "            \n",
    "        # define pyomo model\n",
    "        self.model = pmo.ConcreteModel()\n",
    "        self.model.n = pmo.RangeSet(1, self.x_card)\n",
    "        self.model.c = pmo.RangeSet(1, self.c_card)\n",
    "        self.model.A = pmo.Param(self.model.c, self.model.n, initialize=A_init)\n",
    "        self.model.b = pmo.Param(self.model.c, initialize=b_init)\n",
    "        self.model.x = pmo.Var(self.model.n)\n",
    "        self.model.dual = pmo.Suffix(direction=pmo.Suffix.IMPORT)\n",
    "        self.model.constraints = pmo.ConstraintList()\n",
    "        for c in self.model.c:\n",
    "            self.model.constraints.add(\n",
    "                sum(self.model.A[c, i] * self.model.x[i] for i in self.model.n) <= self.model.b[c]\n",
    "            )\n",
    "        \n",
    "        # define solver\n",
    "        self.solverpath = 'C:\\\\w64\\\\glpsol'\n",
    "        self.solver = pmo.SolverFactory('glpk', executable=self.solverpath)\n",
    "#         self.solver = pmo.SolverFactory('cplex')\n",
    "    \n",
    "        # define empty output entities\n",
    "        self.redundancy = None\n",
    "        self.reduced_A = None\n",
    "        self.reduced_b = None\n",
    "        \n",
    "    def check(self):\n",
    "        # for each constraint, delete any old obj, set new obj as Ax of chosen constraint\n",
    "        # and maximise it.\n",
    "        # Deactivate the chosen constraint itself.\n",
    "        # Then check if b-Ax to see if positive (constraint is loose).\n",
    "        # If so, mark as redundant.\n",
    "        self.redundancy = np.zeros([self.c_card])\n",
    "        for c in self.model.c:\n",
    "            try:\n",
    "                self.model.del_component(self.model.obj)\n",
    "            except:\n",
    "                pass\n",
    "            self.model.obj = pmo.Objective(\n",
    "                expr=-sum(self.model.A[c, i] * self.model.x[i] for i in self.model.n)\n",
    "            )\n",
    "            self.model.constraints[c].deactivate()\n",
    "            self.solver.solve(self.model, tee=False)\n",
    "            self.model.constraints[c].activate()\n",
    "\n",
    "            if self.model.b[c] + pmo.value(self.model.obj) > 1e-5:\n",
    "                self.redundancy[c-1] = 1\n",
    "    \n",
    "        self.reduced_A = self.A[self.redundancy == 0]\n",
    "        self.reduced_b = self.b[self.redundancy == 0]"
   ]
  },
  {
   "cell_type": "markdown",
   "metadata": {},
   "source": [
    "Problem statement"
   ]
  },
  {
   "cell_type": "code",
   "execution_count": 393,
   "metadata": {},
   "outputs": [],
   "source": [
    "# A = np.array(\n",
    "#     [[0.8, 0.44, -1.0, 0.0],\n",
    "#      [0.05, 0.1, 0.0, -1.0],\n",
    "#      [0.1, 0.36, 0.0, 0.0],\n",
    "#      # x boundaries\n",
    "#      [-1.0, 0.0, 0.0, 0.0],\n",
    "#      [0.0, -1.0, 0.0, 0.0],\n",
    "#      # theta boundaries\n",
    "#      [0.0, 0.0, -1.0, 0.0],\n",
    "#      [0.0, 0.0, 1.0, 0.0],\n",
    "#      [0.0, 0.0, 0.0, -1.0],\n",
    "#      [0.0, 0.0, 0.0, 1.0]]\n",
    "# )\n",
    "\n",
    "# b = np.array(\n",
    "#     [24000.0, 2000.0, 6000.0, 0.0, 0.0, 0.0, 6000.0, 0.0, 500.0]\n",
    "# )\n",
    "\n",
    "# m = np.array(\n",
    "#     [-8.1, -10.8, 0.0, 0.0]\n",
    "# )\n",
    "\n",
    "# theta_count = 2\n"
   ]
  },
  {
   "cell_type": "code",
   "execution_count": 394,
   "metadata": {},
   "outputs": [],
   "source": [
    "A = np.array(\n",
    "    [[0.8, 0.44, -1.0, 0.0],\n",
    "     [0.05, 0.1, 0.0, -1.0],\n",
    "     [0.1, 0.36, 0.0, 0.0],\n",
    "     # x boundaries\n",
    "     [-1.0, 0.0, 0.0, 0.0],\n",
    "     [0.0, -1.0, 0.0, 0.0],\n",
    "     # theta boundaries\n",
    "     [0.0, 0.0, -1.0, 0.0],\n",
    "     [0.0, 0.0, 1.0, 0.0],\n",
    "     [0.0, 0.0, 0.0, -1.0],\n",
    "     [0.0, 0.0, 0.0, 1.0],\n",
    "     [0.0, 0.0, -0.03278689, 1.0]]\n",
    ")\n",
    "\n",
    "b = np.array(\n",
    "    [24000.0, 2000.0, 6000.0, 0.0, 0.0, 0.0, 6000.0, 0.0, 500.0, -196.72131148]\n",
    ")\n",
    "\n",
    "m = np.array(\n",
    "    [-8.1, -10.8, 0.0, 0.0]\n",
    ")\n",
    "\n",
    "theta_count = 2\n"
   ]
  },
  {
   "cell_type": "code",
   "execution_count": 395,
   "metadata": {},
   "outputs": [],
   "source": [
    "class RegionSolver:\n",
    "    \n",
    "    def __init__(self, A, b, m, theta_count):\n",
    "        self.A = A\n",
    "        self.b = b\n",
    "        self.m = m\n",
    "        self.theta_count = theta_count\n",
    "        self.x_count = np.shape(A)[1] - self.theta_count\n",
    "        self.var_count = np.shape(A)[1]\n",
    "        self.c_count = np.shape(A)[0]\n",
    "        \n",
    "        # returned from _solve_theta\n",
    "        self.theta = None\n",
    "        \n",
    "        # returned from _solve_x\n",
    "        self.x_problem_A = None\n",
    "        self.x_problem_b = None\n",
    "        self.x_problem_theta_cols = None\n",
    "        self.x = None\n",
    "        self.duals = None\n",
    "\n",
    "        # returned from _get_MN\n",
    "        self.M = None\n",
    "        self.N = None\n",
    "        self.MN = None\n",
    "        \n",
    "        # returned from _get_soln_params\n",
    "        self.soln_slope = None\n",
    "        self.soln_constant = None\n",
    "        \n",
    "        # returned from _set_boundaries\n",
    "        self.boundary_slope = None\n",
    "        self.boundary_constant = None\n",
    "        \n",
    "    def _solve_theta(self):\n",
    "        theta_problem = GenericSolver(self.A, self.b, self.m)\n",
    "        theta_problem.solve()\n",
    "        self.theta = theta_problem.soln[-self.theta_count:]\n",
    "       \n",
    "    def _solve_x(self):\n",
    "        # define A without theta, and ignore constraints just for theta\n",
    "        self.x_problem_A = self.A[:, :(self.var_count - self.theta_count)]\n",
    "\n",
    "        # define b ignoring constraints just for theta\n",
    "        self.x_problem_theta_cols = self.A[:, -self.theta_count:]\n",
    "        self.x_problem_b = self.b - np.dot(self.x_problem_theta_cols, self.theta)\n",
    "        \n",
    "        delete_rows = []\n",
    "        for r in range(self.c_count):\n",
    "            if np.sum(np.abs(self.x_problem_A[r])) == 0:\n",
    "                delete_rows.append(r)\n",
    "        self.x_problem_A = np.delete(self.x_problem_A, delete_rows, axis=0)\n",
    "        self.x_problem_b = np.delete(self.x_problem_b, delete_rows)\n",
    "#         # !!!!dirty hack!!!!\n",
    "#         region_problem.x_problem_b[0]=30000+0.000001\n",
    "        self.x_problem_theta_cols = np.delete(self.x_problem_theta_cols, delete_rows, axis=0)\n",
    "        \n",
    "        # solve for x, duals\n",
    "        x_problem = GenericSolver(self.x_problem_A, self.x_problem_b, self.m)\n",
    "        x_problem.solve()\n",
    "        self.x = x_problem.soln \n",
    "        self.duals = x_problem.duals\n",
    "    \n",
    "    def _get_MN(self):\n",
    "        M_len = self.x_count + np.shape(self.x_problem_A)[0]\n",
    "        self.M = np.zeros([M_len, M_len])\n",
    "        self.M[:self.x_count, self.x_count:] = self.x_problem_A.T\n",
    "        self.M[self.x_count:, :self.x_count] = np.multiply(self.x_problem_A.T, self.duals).T\n",
    "\n",
    "        # if whole row is zero, multiplier is zero so delete row\n",
    "        delete_rows = []\n",
    "        for r in range(M_len):\n",
    "            if np.sum(np.abs(self.M[r])) == 0:\n",
    "                delete_rows.append(r)\n",
    "        self.M = np.delete(self.M, delete_rows, axis=0)    \n",
    "        self.M = np.delete(self.M, delete_rows, axis=1)\n",
    "        \n",
    "        # M has (no of var + no of constraints) rows.\n",
    "        # For matrices theta_cols and duals, they only have rows equal to no of constraints.\n",
    "        # Here we want to delete constraints that are redundant, but list delete_rows count in rows of M.\n",
    "        # So count back no of var to compute rows to delete for theta_cols and duals.\n",
    "        delete_rows_constraints_only = delete_rows - np.ones(len(delete_rows)) * self.x_count\n",
    "        delete_rows_constraints_only = delete_rows_constraints_only.astype('int')\n",
    "        \n",
    "        # delete redundant rows from theta_cols, duals and N also to ensure non-singular matrix\n",
    "        reduced_theta_cols = np.delete(self.x_problem_theta_cols, delete_rows_constraints_only, axis=0)\n",
    "        reduced_duals = np.delete(self.duals, delete_rows_constraints_only)\n",
    "        \n",
    "        self.N = np.zeros([np.shape(self.M)[0], self.theta_count])\n",
    "        self.N[self.x_count:] = np.multiply(reduced_theta_cols.T, reduced_duals).T\n",
    "        \n",
    "        MN_result = np.linalg.solve(self.M, self.N)\n",
    "        self.MN = np.zeros([M_len, self.theta_count])\n",
    "        kept_rows = np.delete(np.array(range(M_len)), delete_rows)\n",
    "        \n",
    "        for i in range(len(kept_rows)):\n",
    "            self.MN[kept_rows[i], :] = MN_result[i]\n",
    "        \n",
    "    def _get_soln_params(self):\n",
    "        self.soln_slope = -self.MN\n",
    "        self.soln_constant = np.dot(-self.MN, -self.theta) + np.r_[self.x, self.duals]\n",
    "        \n",
    "    def _set_boundaries(self):\n",
    "        # substitute x = G * theta + H into Ax <= b\n",
    "        # Means AG * theta + AH <= b\n",
    "        # A: x_problem_A, remove active constraints\n",
    "        # b: x_problem_b, remove active constraints\n",
    "        # G: soln_slope, for x (so remove lambda)\n",
    "        # H: soln_constant, for x (so remove lambda)\n",
    "        #\n",
    "        # Then need to add back the theta theta cols into the constraints. We can use x_problem_theta_cols\n",
    "        \n",
    "        # formulate A, b\n",
    "        sub_A = self.x_problem_A[self.duals == 0.0]\n",
    "        sub_b = self.x_problem_b[self.duals == 0.0]\n",
    "        sub_theta_cols = self.x_problem_theta_cols[self.duals == 0.0]\n",
    "        \n",
    "        sub_G = self.soln_slope[:self.x_count]\n",
    "        sub_H = self.soln_constant[:self.x_count]\n",
    "        \n",
    "        AG = np.dot(sub_A, sub_G)\n",
    "        AH = np.dot(sub_A, sub_H)\n",
    "        \n",
    "        AG_with_theta_cols = AG + sub_theta_cols\n",
    "        \n",
    "        new_rhs = sub_b - AH\n",
    "\n",
    "        \n",
    "        A_theta_only_constraints = np.sum(np.abs(self.A[:, :self.x_count]), axis=1) == 0\n",
    "        \n",
    "        boundary_slope = np.concatenate((AG_with_theta_cols, self.A[A_theta_only_constraints][:, -self.theta_count:]), axis=0)\n",
    "        \n",
    "        boundary_constant = np.concatenate((new_rhs, self.b[A_theta_only_constraints]))\n",
    "        \n",
    "        reduction_problem = RedundancyChecker(boundary_slope, boundary_constant)\n",
    "        reduction_problem.check()\n",
    "        \n",
    "        self.boundary_slope = reduction_problem.reduced_A\n",
    "        self.boundary_constant = reduction_problem.reduced_b"
   ]
  },
  {
   "cell_type": "code",
   "execution_count": 396,
   "metadata": {},
   "outputs": [],
   "source": [
    "region_problem = RegionSolver(A, b, m, theta_count)\n",
    "region_problem._solve_theta()"
   ]
  },
  {
   "cell_type": "code",
   "execution_count": 397,
   "metadata": {},
   "outputs": [],
   "source": [
    "region_problem._solve_x()"
   ]
  },
  {
   "cell_type": "code",
   "execution_count": 398,
   "metadata": {},
   "outputs": [],
   "source": [
    "region_problem._get_MN()"
   ]
  },
  {
   "cell_type": "code",
   "execution_count": 399,
   "metadata": {},
   "outputs": [],
   "source": [
    "region_problem._get_soln_params()"
   ]
  },
  {
   "cell_type": "code",
   "execution_count": 400,
   "metadata": {},
   "outputs": [],
   "source": [
    "region_problem._set_boundaries()"
   ]
  },
  {
   "cell_type": "code",
   "execution_count": 401,
   "metadata": {},
   "outputs": [
    {
     "data": {
      "text/plain": [
       "array([[ 1.72413793, -7.5862069 ],\n",
       "       [-0.86206897, 13.79310345],\n",
       "       [-0.        , -0.        ],\n",
       "       [-0.        , -0.        ],\n",
       "       [-0.        , -0.        ],\n",
       "       [-0.        , -0.        ],\n",
       "       [-0.        , -0.        ]])"
      ]
     },
     "execution_count": 401,
     "metadata": {},
     "output_type": "execute_result"
    }
   ],
   "source": [
    "region_problem.soln_slope"
   ]
  },
  {
   "cell_type": "code",
   "execution_count": 402,
   "metadata": {},
   "outputs": [
    {
     "data": {
      "text/plain": [
       "array([2.62068966e+04, 6.89655172e+03, 4.65517241e+00, 8.75172414e+01,\n",
       "       0.00000000e+00, 0.00000000e+00, 0.00000000e+00])"
      ]
     },
     "execution_count": 402,
     "metadata": {},
     "output_type": "execute_result"
    }
   ],
   "source": [
    "region_problem.soln_constant"
   ]
  },
  {
   "cell_type": "code",
   "execution_count": 403,
   "metadata": {},
   "outputs": [
    {
     "data": {
      "text/plain": [
       "array([[ 1.        ,  0.        ],\n",
       "       [ 0.        , -1.        ],\n",
       "       [-0.03278689,  1.        ]])"
      ]
     },
     "execution_count": 403,
     "metadata": {},
     "output_type": "execute_result"
    }
   ],
   "source": [
    "region_problem.boundary_slope"
   ]
  },
  {
   "cell_type": "code",
   "execution_count": 404,
   "metadata": {},
   "outputs": [
    {
     "data": {
      "text/plain": [
       "array([6000.        ,    0.        , -196.72131148])"
      ]
     },
     "execution_count": 404,
     "metadata": {},
     "output_type": "execute_result"
    }
   ],
   "source": [
    "region_problem.boundary_constant"
   ]
  },
  {
   "cell_type": "code",
   "execution_count": null,
   "metadata": {},
   "outputs": [],
   "source": []
  }
 ],
 "metadata": {
  "kernelspec": {
   "display_name": "Python 3",
   "language": "python",
   "name": "python3"
  },
  "language_info": {
   "codemirror_mode": {
    "name": "ipython",
    "version": 3
   },
   "file_extension": ".py",
   "mimetype": "text/x-python",
   "name": "python",
   "nbconvert_exporter": "python",
   "pygments_lexer": "ipython3",
   "version": "3.6.5"
  }
 },
 "nbformat": 4,
 "nbformat_minor": 2
}
