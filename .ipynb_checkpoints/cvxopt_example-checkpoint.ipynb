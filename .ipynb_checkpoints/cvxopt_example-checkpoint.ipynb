{
 "cells": [
  {
   "cell_type": "markdown",
   "metadata": {},
   "source": [
    "Problem statement\n",
    "\n",
    "$$min\\, -8.1x_1-10.8x_2 $$\n",
    "$$s.t. $$\n",
    "$$ 0.8x_1 + 0.44x_2 \\le 24000 +\\theta_1 $$\n",
    "$$ 0.05x_1 +0.1x_2\\le2000 +\\theta_2 $$\n",
    "$$ 0.1x_1 + 0.36x_2 \\le 6000 $$ \n",
    "$$ x_1, x_2 \\ge 0 $$\n",
    "$$ 0 \\le \\theta_1 \\le 6000 $$\n",
    "$$ 0 \\le \\theta_2 \\le 500 $$\n"
   ]
  },
  {
   "cell_type": "code",
   "execution_count": 2,
   "metadata": {},
   "outputs": [],
   "source": [
    "# Solve model assuming theta1, theta2 = 0"
   ]
  },
  {
   "cell_type": "code",
   "execution_count": 3,
   "metadata": {},
   "outputs": [
    {
     "name": "stdout",
     "output_type": "stream",
     "text": [
      "[ 4.66e+00]\n",
      "[ 8.75e+01]\n",
      "[-0.00e+00]\n",
      "[-0.00e+00]\n",
      "[-0.00e+00]\n",
      "\n"
     ]
    }
   ],
   "source": [
    "import cvxopt as cvx\n",
    "import numpy as np\n",
    "\n",
    "np.set_printoptions(suppress=True)\n",
    "\n",
    "c = cvx.matrix([-8.1, -10.8])\n",
    "\n",
    "x1 = np.array([0.8, 0.05, 0.1, -1.0, 0.0])\n",
    "x2 = np.array([0.44, 0.1, 0.36, 0.0, -1.0])\n",
    "b =cvx.matrix([24000.0 + 0.0, 2000.0 + 0.0, 6000.0, 0.0, 0.0])\n",
    "A = np.stack([x1, x2]).T\n",
    "\n",
    "\n",
    "A = cvx.matrix(A)\n",
    "b = cvx.matrix(b)\n",
    "c = cvx.matrix(c)\n",
    "\n",
    "cvx.solvers.options['feastol'] = 1e-11\n",
    "sol = cvx.solvers.lp(c, A, b, solver='glpk')\n",
    "print(sol['z'])\n"
   ]
  },
  {
   "cell_type": "markdown",
   "metadata": {},
   "source": [
    "\n",
    "Formulate M, N.\n",
    "M size = 2 + 5\n",
    "2 is dL/dx1, dL/dx2\n",
    "5 constraints.\n",
    "So 2 + 5 is the size of the KKT problem.\n",
    "\n",
    "N is of size 2 + 5, 2.\n",
    "2 + 5 size of KKT, 2 are the two thetas.\n",
    "\n",
    "For M, if the whole row is 0, delete the row and the column. Reason is it means the lagrange multiplier for the constraint is 0.\n",
    "Delete the row for N also.\n",
    "\n",
    "Resolving M * y = N gives y, which is $$ M^{-1}N$$.\n",
    "\n",
    "Get slope and constant for sensitivities.\n",
    "** Why is - sign needed for M-1N??"
   ]
  },
  {
   "cell_type": "code",
   "execution_count": 4,
   "metadata": {},
   "outputs": [],
   "source": [
    "M = np.zeros(shape=[2+5, 2+5])\n",
    "A_array = np.array(A)\n",
    "\n",
    "z_array = np.array(sol['z'])\n",
    "\n",
    "M[0:2, 2::] = A_array.T\n",
    "M[2:2+5+1, 0:2] = np.multiply(A_array.T, z_array.T).T\n",
    "\n",
    "N = np.zeros(shape=[2+5, 2])\n",
    "N[2+0, 0] = -z_array.T[0][0]\n",
    "N[2+1, 1] = -z_array.T[0][1]\n",
    "\n",
    "M_constr_delete = []\n",
    "for i in range(len(M)):\n",
    "    if np.sum(np.absolute(M[i])) <= 1e-5:\n",
    "        M_constr_delete.append(i)\n",
    "        \n",
    "        \n",
    "M = np.delete(M, M_constr_delete, axis=0)\n",
    "M = np.delete(M, M_constr_delete, axis=1)\n",
    "N = np.delete(N, M_constr_delete, axis=0)\n",
    "        \n",
    "\n",
    "y = np.linalg.solve(M, N)\n",
    "# np.sum(np.absolute(M[6]))\n",
    "slope = -y\n",
    "\n",
    "# should be more automatic here.\n",
    "theta = np.array([0.0, 0.0])\n",
    "# constant = np.dot(-y, -theta) + \n",
    "add_term = np.r_[sol['x'], sol['z']].T[0]\n",
    "\n",
    "add_term_constr_delete = []\n",
    "for i in range(len(add_term)):\n",
    "    if np.absolute(add_term[i]) <= 1e-5:\n",
    "        add_term_constr_delete.append(i)\n",
    "add_term = np.delete(add_term, add_term_constr_delete)\n",
    "\n",
    "constant = np.dot(-y, -theta) + add_term\n"
   ]
  },
  {
   "cell_type": "code",
   "execution_count": 5,
   "metadata": {},
   "outputs": [
    {
     "data": {
      "text/plain": [
       "array([[ 1.72413793, -7.5862069 ],\n",
       "       [-0.86206897, 13.79310345],\n",
       "       [-0.        , -0.        ],\n",
       "       [-0.        , -0.        ]])"
      ]
     },
     "execution_count": 5,
     "metadata": {},
     "output_type": "execute_result"
    }
   ],
   "source": [
    "slope"
   ]
  },
  {
   "cell_type": "code",
   "execution_count": 6,
   "metadata": {},
   "outputs": [
    {
     "data": {
      "text/plain": [
       "array([26206.89655172,  6896.55172414,     4.65517241,    87.51724138])"
      ]
     },
     "execution_count": 6,
     "metadata": {},
     "output_type": "execute_result"
    }
   ],
   "source": [
    "constant"
   ]
  },
  {
   "cell_type": "markdown",
   "metadata": {},
   "source": [
    "Substitute the new results for x, theta into the old constraints.\n",
    "Consider\n",
    "$$ Ax \\le B $$\n",
    "$$ x = G\\theta + H $$\n",
    "\n",
    "Substitute:\n",
    "$$ A(G\\theta + H) \\le B $$\n",
    "$$ AG\\theta + AH \\le B $$\n",
    "\n",
    "In our case, <br/>\n",
    "A = constraint coeffs <br/>\n",
    "B = constraint RHS <br/>\n",
    "G = slope <br/>\n",
    "H = constant <br/>"
   ]
  },
  {
   "cell_type": "code",
   "execution_count": 7,
   "metadata": {},
   "outputs": [
    {
     "name": "stdout",
     "output_type": "stream",
     "text": [
      "AG=\n",
      "[[  1.           0.        ]\n",
      " [  0.           1.        ]\n",
      " [ -0.13793103   4.20689655]\n",
      " [ -1.72413793   7.5862069 ]\n",
      " [  0.86206897 -13.79310345]]\n",
      "constr_b=\n",
      "[    0.             0.           896.55172414 26206.89655172\n",
      "  6896.55172414]\n"
     ]
    },
    {
     "data": {
      "text/plain": [
       "array([26206.89655172,  6896.55172414])"
      ]
     },
     "execution_count": 7,
     "metadata": {},
     "output_type": "execute_result"
    }
   ],
   "source": [
    "G = slope[:2]\n",
    "AG = np.dot(np.array(A), G)\n",
    "H = constant[:2]\n",
    "AH = np.dot(np.array(A), H)\n",
    "constr_b = np.array(b).T[0] - AH\n",
    "print('AG=')\n",
    "print(AG)\n",
    "print('constr_b=')\n",
    "print(constr_b)\n",
    "H"
   ]
  },
  {
   "cell_type": "code",
   "execution_count": 8,
   "metadata": {},
   "outputs": [
    {
     "name": "stdout",
     "output_type": "stream",
     "text": [
      "[ 2.40e+04]\n",
      "[ 2.00e+03]\n",
      "[ 5.10e+03]\n",
      "[-2.62e+04]\n",
      "[-6.90e+03]\n",
      "\n"
     ]
    }
   ],
   "source": [
    "print(cvx.matrix(AH))"
   ]
  },
  {
   "cell_type": "markdown",
   "metadata": {},
   "source": [
    "The A matrix is made of constrants, then bounds for x (maybe theta)\n",
    "The b vector is made of b of matrices, then bounds for x (maybe theta)\n",
    "\n",
    "c has length equal to no. of x (and theta)\n",
    "\n",
    "We need a function, given A and b, to figure out the redundant constraints."
   ]
  },
  {
   "cell_type": "markdown",
   "metadata": {},
   "source": [
    "Here we remove active constraints. 0, 1, 3, 4 are manually calculated to be active at current theta point."
   ]
  },
  {
   "cell_type": "code",
   "execution_count": 9,
   "metadata": {},
   "outputs": [
    {
     "name": "stdout",
     "output_type": "stream",
     "text": [
      "[[-0.13793103  4.20689655]\n",
      " [ 0.          1.        ]\n",
      " [ 1.          0.        ]]\n",
      "[ 896.55172414  500.         6000.        ]\n"
     ]
    }
   ],
   "source": [
    "AG = np.append(AG, [[0.0000000000, 1.0000000000]], axis=0)\n",
    "AG = np.append(AG, [[1.0, 0.0]], axis=0)\n",
    "AG = np.delete(AG,[0,1,3,4], axis=0)\n",
    "print(AG)\n",
    "constr_b = np.append(constr_b, [500.0000000000])\n",
    "constr_b = np.append(constr_b, [6000.0000000000])\n",
    "constr_b = np.delete(constr_b, [0,1,3,4])\n",
    "\n",
    "print(constr_b)\n"
   ]
  },
  {
   "cell_type": "markdown",
   "metadata": {},
   "source": [
    "After removing active constraints, we proceed to identify redundant constraints."
   ]
  },
  {
   "cell_type": "code",
   "execution_count": 10,
   "metadata": {},
   "outputs": [
    {
     "name": "stdout",
     "output_type": "stream",
     "text": [
      "1\n",
      "- (-0.13793103448275856*theta[1] + 4.206896551724137*theta[2])\n",
      "-1.1368683772161603e-12\n",
      "theta1\n",
      "0.0\n",
      "theta2\n",
      "213.114754098361\n",
      "2\n",
      "- theta[2]\n",
      "90.16393442622899\n",
      "theta1\n",
      "6000.0\n",
      "theta2\n",
      "409.836065573771\n",
      "3\n",
      "- theta[1]\n",
      "0.0\n",
      "theta1\n",
      "6000.0\n",
      "theta2\n",
      "0.0\n"
     ]
    }
   ],
   "source": [
    "import pyomo.environ as pmo\n",
    "\n",
    "m = pmo.ConcreteModel()\n",
    "AG_dict = {}\n",
    "AG_rows = AG.shape[0]\n",
    "AG_cols = AG.shape[1]\n",
    "for r in range(AG_rows):\n",
    "    for c in range(AG_cols):\n",
    "        AG_dict[r+1, c+1] = AG[r, c]\n",
    "\n",
    "        \n",
    "constr_b_dict = {}\n",
    "for c in range(AG_rows):\n",
    "    constr_b_dict[c+1] = constr_b[c]\n",
    "m.v = pmo.RangeSet(1, AG_cols)\n",
    "m.cc = pmo.RangeSet(1, AG_rows)\n",
    "m.A = pmo.Param(m.cc, m.v, initialize=AG_dict)\n",
    "m.b = pmo.Param(m.cc, initialize=constr_b_dict)\n",
    "m.theta = pmo.Var(m.v, domain=pmo.NonNegativeReals)\n",
    "\n",
    "m.constraints = pmo.ConstraintList()\n",
    "for cc in m.cc:\n",
    "    m.constraints.add(\n",
    "        sum(m.A[cc, v] * m.theta[v] for v in m.v) <= m.b[cc]\n",
    "    )\n",
    "    \n",
    "solverpath = 'C:\\\\w64\\\\glpsol'\n",
    "solver = pmo.SolverFactory('glpk', executable=solverpath)\n",
    "    \n",
    "for cc in m.cc:\n",
    "    print(cc)\n",
    "    i = 1\n",
    "    try:\n",
    "        m.del_component(m.obj)\n",
    "    except:\n",
    "        pass\n",
    "    m.obj = pmo.Objective(\n",
    "        expr=-sum(m.A[cc, v] * m.theta[v] for v in m.v)\n",
    "    )\n",
    "    print(m.obj.expr)\n",
    "    \n",
    "    solver.solve(m, tee=False)\n",
    "    print(pmo.value(m.obj)  + m.b[cc])\n",
    "    print('theta1')\n",
    "    print(m.theta[1].value)\n",
    "    print('theta2')\n",
    "    print(m.theta[2].value)\n",
    "\n",
    "    \n",
    "\n"
   ]
  },
  {
   "cell_type": "markdown",
   "metadata": {},
   "source": [
    "With model above, we identify that theta2 <=500 is redundant"
   ]
  },
  {
   "cell_type": "code",
   "execution_count": null,
   "metadata": {},
   "outputs": [],
   "source": []
  }
 ],
 "metadata": {
  "kernelspec": {
   "display_name": "Python 3",
   "language": "python",
   "name": "python3"
  },
  "language_info": {
   "codemirror_mode": {
    "name": "ipython",
    "version": 3
   },
   "file_extension": ".py",
   "mimetype": "text/x-python",
   "name": "python",
   "nbconvert_exporter": "python",
   "pygments_lexer": "ipython3",
   "version": "3.6.5"
  }
 },
 "nbformat": 4,
 "nbformat_minor": 2
}
