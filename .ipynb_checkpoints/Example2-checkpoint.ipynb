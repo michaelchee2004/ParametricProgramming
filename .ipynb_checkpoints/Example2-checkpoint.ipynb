{
 "cells": [
  {
   "cell_type": "code",
   "execution_count": 148,
   "metadata": {},
   "outputs": [],
   "source": [
    "from pyomo.environ import *\n",
    "\n",
    "class OptModel:\n",
    "    def __init__(self, element):\n",
    "        self.element = element\n",
    "        self.m = ConcreteModel()\n",
    "        self.m.i = Set(initialize=[1, 2])\n",
    "        self.m.c = Set(initialize=['1', '2', '3', '4', '5', '6', '7', '8'])\n",
    "        self.m.theta = Var(self.m.i, domain=NonNegativeReals)\n",
    "        self.m.s = Var(self.m.c, domain=NonNegativeReals)\n",
    "        \n",
    "        self.m.constraints = ConstraintList()\n",
    "        \n",
    "        self.m.constraints.add(\n",
    "            -3.16515 * self.m.theta[1] - 3.7546 * self.m.theta[2] + None\n",
    "            + self.m.s['1'] == 0.417425\n",
    "        )\n",
    "        \n",
    "        self.m.constraints.add(\n",
    "            3.16515 * self.m.theta[1] + 3.7546 * self.m.theta[2] \n",
    "            + self.m.s['2'] == 3.582575\n",
    "        )\n",
    "        \n",
    "        self.m.constraints.add(\n",
    "            -0.17355 * self.m.theta[1] + 0.2717 * self.m.theta[2] \n",
    "            + self.m.s['3'] == 0.413225\n",
    "        )\n",
    "        \n",
    "        self.m.constraints.add(\n",
    "            -0.06585 * self.m.theta[1] - 0.4714 * self.m.theta[2] \n",
    "            + self.m.s['4'] == 0.467075\n",
    "        )\n",
    "        \n",
    "        self.m.constraints.add(\n",
    "            -1.81960 * self.m.theta[1] + 3.2841 * self.m.theta[2] \n",
    "            + self.m.s['5'] == 1.090200\n",
    "        )\n",
    "        \n",
    "        self.m.constraints.add(\n",
    "            1.81960 * self.m.theta[1] - 3.2841 * self.m.theta[2] \n",
    "            + self.m.s['6'] == 2.909800\n",
    "        )\n",
    "        \n",
    "        self.m.constraints.add(\n",
    "            self.m.theta[1] + self.m.s['7'] == 1.0\n",
    "        )\n",
    "        \n",
    "        self.m.constraints.add(\n",
    "            self.m.theta[2] + self.m.s['8'] == 1.0\n",
    "        )\n",
    "        \n",
    "        self.m.obj = Objective(expr=self.m.s[self.element])\n",
    "        \n",
    "        solverpath = 'C:\\\\w64\\\\glpsol'\n",
    "        self.solver = SolverFactory('glpk', executable=solverpath)\n",
    "        \n",
    "    def solve(self):\n",
    "        self.solver.solve(self.m, tee=False)\n",
    "    \n",
    "    def write(self):\n",
    "#         for i in self.m.c:\n",
    "        print(self.m.s[self.element].value)\n",
    "        \n",
    "        \n"
   ]
  },
  {
   "cell_type": "code",
   "execution_count": 149,
   "metadata": {},
   "outputs": [
    {
     "name": "stdout",
     "output_type": "stream",
     "text": [
      "0.417425\n",
      "0.0\n",
      "0.323030627112451\n",
      "0.467075\n",
      "0.0\n",
      "1.0902\n",
      "0.0\n",
      "0.421270875081205\n"
     ]
    }
   ],
   "source": [
    "mylist = ['1', '2', '3', '4', '5', '6', '7', '8']\n",
    "for i in mylist:    \n",
    "    MyModel = OptModel(i)\n",
    "    MyModel.solve()\n",
    "    MyModel.write()"
   ]
  },
  {
   "cell_type": "code",
   "execution_count": 47,
   "metadata": {},
   "outputs": [
    {
     "data": {
      "text/plain": [
       "{'1', '2', '3', '4', '5', '6', '7', '8'}"
      ]
     },
     "execution_count": 47,
     "metadata": {},
     "output_type": "execute_result"
    }
   ],
   "source": [
    "MyModel.m.c.value"
   ]
  }
 ],
 "metadata": {
  "kernelspec": {
   "display_name": "Python 3",
   "language": "python",
   "name": "python3"
  },
  "language_info": {
   "codemirror_mode": {
    "name": "ipython",
    "version": 3
   },
   "file_extension": ".py",
   "mimetype": "text/x-python",
   "name": "python",
   "nbconvert_exporter": "python",
   "pygments_lexer": "ipython3",
   "version": "3.6.5"
  }
 },
 "nbformat": 4,
 "nbformat_minor": 2
}
