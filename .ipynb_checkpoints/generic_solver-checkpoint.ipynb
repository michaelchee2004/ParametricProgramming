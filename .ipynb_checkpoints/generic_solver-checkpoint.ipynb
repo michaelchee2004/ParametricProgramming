{
 "cells": [
  {
   "cell_type": "markdown",
   "metadata": {},
   "source": [
    "Problem statement\n",
    "\n",
    "$$min\\, -8.1x_1-10.8x_2 $$\n",
    "$$s.t. $$\n",
    "$$ 0.8x_1 + 0.44x_2 \\le 24000 +\\theta_1 $$\n",
    "$$ 0.05x_1 +0.1x_2\\le2000 +\\theta_2 $$\n",
    "$$ 0.1x_1 + 0.36x_2 \\le 6000 $$ \n",
    "$$ x_1, x_2 \\ge 0 $$\n",
    "$$ 0 \\le \\theta_1 \\le 6000 $$\n",
    "$$ 0 \\le \\theta_2 \\le 500 $$\n"
   ]
  },
  {
   "cell_type": "code",
   "execution_count": 18,
   "metadata": {},
   "outputs": [],
   "source": [
    "import pyomo.environ as pmo\n",
    "import numpy as np\n",
    "\n",
    "class GenericSolver:\n",
    "    \n",
    "    def __init__(self, A, b, m):\n",
    "        # get no of var and constraints\n",
    "        self.x_card = np.shape(A)[1]\n",
    "        self.c_card = np.shape(A)[0]\n",
    "        \n",
    "        # transform A from matrix to dict\n",
    "        A_init = {}\n",
    "        for i in range(self.c_card):\n",
    "            for j in range(self.x_card):\n",
    "                A_init[(i+1, j+1)] = A[i, j]\n",
    "        \n",
    "        # transform b from vector to dict\n",
    "        b_init = {}\n",
    "        for i in range(self.c_card):\n",
    "            b_init[i+1] = b[i]\n",
    "            \n",
    "        # transform m from vector to dict\n",
    "        m_init = {}\n",
    "        for i in range(self.x_card):\n",
    "            m_init[i+1] = m[i]\n",
    "        \n",
    "        # define pyomo model\n",
    "        self.model = pmo.ConcreteModel()\n",
    "        self.model.n = pmo.RangeSet(1, self.x_card)\n",
    "        self.model.c = pmo.RangeSet(1, self.c_card)\n",
    "        self.model.A = pmo.Param(self.model.c, self.model.n, initialize=A_init)\n",
    "        self.model.b = pmo.Param(self.model.c, initialize=b_init)\n",
    "        self.model.m = pmo.Param(self.model.n, initialize=m_init)\n",
    "        self.model.x = pmo.Var(self.model.n, domain=pmo.NonNegativeReals)\n",
    "        self.model.dual = pmo.Suffix(direction=pmo.Suffix.IMPORT)\n",
    "        self.model.constraints = pmo.ConstraintList()\n",
    "        for c in self.model.c:\n",
    "            self.model.constraints.add(\n",
    "                sum(self.model.A[c, i] * self.model.x[i] for i in self.model.n) <= self.model.b[c]\n",
    "            )\n",
    "        self.model.obj = pmo.Objective(\n",
    "            expr=sum(self.model.m[i] * self.model.x[i] for i in self.model.n)\n",
    "        )\n",
    "        \n",
    "        # define solver\n",
    "        self.solverpath = 'C:\\\\w64\\\\glpsol'\n",
    "        self.solver = pmo.SolverFactory('glpk', tee=True, executable=self.solverpath)\n",
    "    \n",
    "        # define empty output entities\n",
    "        self.soln = None\n",
    "        self.duals = None\n",
    "    \n",
    "    def solve(self):\n",
    "        self.solver.solve(self.model, tee=False)\n",
    "        self.soln = np.empty([self.x_card])\n",
    "        for i in range(self.x_card):\n",
    "            self.soln[i] = self.model.x[i+1].value\n",
    "        self.duals = np.empty([self.c_card])\n",
    "        for c in range(self.c_card):\n",
    "            self.duals[c] = -self.model.dual[self.model.constraints[c+1]]"
   ]
  },
  {
   "cell_type": "code",
   "execution_count": 19,
   "metadata": {},
   "outputs": [],
   "source": [
    "A = np.array(\n",
    "    [[0.8, 0.44, -1.0, 0.0],\n",
    "     [0.05, 0.1, 0.0, -1.0],\n",
    "     [0.1, 0.36, 0.0, 0.0],\n",
    "     # x boundaries\n",
    "     [-1.0, 0.0, 0.0, 0.0],\n",
    "     [0.0, -1.0, 0.0, 0.0],\n",
    "     # theta boundaries\n",
    "     [0.0, 0.0, -1.0, 0.0],\n",
    "     [0.0, 0.0, 1.0, 0.0],\n",
    "     [0.0, 0.0, 0.0, -1.0],\n",
    "     [0.0, 0.0, 0.0, 1.0]]\n",
    "#      ,\n",
    "#      [0.0, 0.0, -0.03278689, 1.0]]\n",
    ")\n",
    "\n",
    "b = np.array(\n",
    "    [24000.0, 2000.0, 6000.0, 0.0, 0.0, 0.0, 6000.0, 0.0, 500.0]#, -196.72131148]\n",
    ")\n",
    "\n",
    "m = np.array(\n",
    "    [-8.1, -10.8, 0.0, 0.0]\n",
    ")\n",
    "\n",
    "theta_count = 2\n"
   ]
  },
  {
   "cell_type": "code",
   "execution_count": 20,
   "metadata": {},
   "outputs": [],
   "source": [
    "me = GenericSolver(A, b, m)\n",
    "me.solve()"
   ]
  },
  {
   "cell_type": "code",
   "execution_count": 21,
   "metadata": {},
   "outputs": [
    {
     "data": {
      "text/plain": [
       "array([ 7.525, -0.   , 20.803, -0.   , -0.   , -0.   ,  7.525, -0.   ,\n",
       "       -0.   ])"
      ]
     },
     "execution_count": 21,
     "metadata": {},
     "output_type": "execute_result"
    }
   ],
   "source": [
    "me.duals.round(3)"
   ]
  }
 ],
 "metadata": {
  "kernelspec": {
   "display_name": "Python 3",
   "language": "python",
   "name": "python3"
  },
  "language_info": {
   "codemirror_mode": {
    "name": "ipython",
    "version": 3
   },
   "file_extension": ".py",
   "mimetype": "text/x-python",
   "name": "python",
   "nbconvert_exporter": "python",
   "pygments_lexer": "ipython3",
   "version": "3.6.12"
  }
 },
 "nbformat": 4,
 "nbformat_minor": 2
}
