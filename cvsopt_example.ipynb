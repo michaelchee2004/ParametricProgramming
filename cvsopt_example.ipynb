{
 "cells": [
  {
   "cell_type": "code",
   "execution_count": 164,
   "metadata": {},
   "outputs": [
    {
     "name": "stdout",
     "output_type": "stream",
     "text": [
      "     pcost       dcost       gap    pres   dres   k/t\n",
      " 0: -1.5615e+05 -4.1719e+05  3e+05  0e+00  7e-02  1e+00\n",
      " 1: -2.4693e+05 -3.5373e+05  1e+05  2e-16  3e-02  6e+03\n",
      " 2: -2.4913e+05 -3.2922e+05  9e+04  4e-16  2e-02  6e+03\n",
      " 3: -2.7730e+05 -3.2012e+05  5e+04  5e-16  1e-02  5e+03\n",
      " 4: -2.8616e+05 -3.1300e+05  3e+04  2e-16  8e-03  4e+03\n",
      " 5: -2.7521e+05 -2.9460e+05  2e+04  3e-16  6e-03  3e+03\n",
      " 6: -2.8636e+05 -2.8693e+05  6e+02  9e-17  2e-04  1e+02\n",
      " 7: -2.8675e+05 -2.8676e+05  6e+00  5e-16  2e-06  1e+00\n",
      " 8: -2.8676e+05 -2.8676e+05  6e-02  2e-16  2e-08  1e-02\n",
      " 9: -2.8676e+05 -2.8676e+05  6e-04  2e-16  2e-10  1e-04\n",
      "10: -2.8676e+05 -2.8676e+05  6e-06  4e-17  2e-12  1e-06\n",
      "Optimal solution found.\n",
      "[ 4.66e+00]\n",
      "[ 8.75e+01]\n",
      "[ 4.32e-10]\n",
      "[ 4.18e-11]\n",
      "[ 9.41e-11]\n",
      "\n"
     ]
    }
   ],
   "source": [
    "import cvxopt as cvx\n",
    "import numpy as np\n",
    "\n",
    "np.set_printoptions(suppress=True)\n",
    "\n",
    "c = cvx.matrix([-8.1, -10.8])\n",
    "\n",
    "x1 = np.array([0.8, 0.05, 0.1, -1.0, 0.0])\n",
    "x2 = np.array([0.44, 0.1, 0.36, 0.0, -1.0])\n",
    "# theta1 = np.array([-1.0, 0.0, 0.0, -1.0, 1.0, 0.0, 0.0, 0.0, 0.0])\n",
    "# theta2 = np.array([0.0, -1.0, 0.0, 0.0, 0.0, -1.0, 1.0, 0.0, 0.0])\n",
    "b =cvx.matrix([24000.0, 2000.0, 6000.0, 0.0, 0.0])\n",
    "A = np.stack([x1, x2]).T\n",
    "\n",
    "\n",
    "A = cvx.matrix(A)\n",
    "b = cvx.matrix(b)\n",
    "c = cvx.matrix(c)\n",
    "\n",
    "cvx.solvers.options['feastol'] = 1e-11\n",
    "sol = cvx.solvers.lp(c, A, b)\n",
    "print(sol['z'])\n"
   ]
  },
  {
   "cell_type": "code",
   "execution_count": 176,
   "metadata": {},
   "outputs": [
    {
     "data": {
      "text/plain": [
       "array([26206.89655135,  6896.55172405,     4.65517241,    87.51724138])"
      ]
     },
     "execution_count": 176,
     "metadata": {},
     "output_type": "execute_result"
    }
   ],
   "source": [
    "M = np.zeros(shape=[2+5, 2+5])\n",
    "A_array = np.array(A)\n",
    "\n",
    "z_array = np.array(sol['z'])\n",
    "\n",
    "M[0:2, 2::] = A_array.T\n",
    "M[2:2+5+1, 0:2] = np.multiply(A_array.T, z_array.T).T\n",
    "\n",
    "N = np.zeros(shape=[2+5, 2])\n",
    "N[2+0, 0] = -z_array.T[0][0]\n",
    "N[2+1, 1] = -z_array.T[0][1]\n",
    "\n",
    "M_constr_delete = []\n",
    "for i in range(len(M)):\n",
    "    if np.sum(np.absolute(M[i])) <= 1e-9:\n",
    "        M_constr_delete.append(i)\n",
    "        \n",
    "        \n",
    "M = np.delete(M, M_constr_delete, axis=0)\n",
    "M = np.delete(M, M_constr_delete, axis=1)\n",
    "N = np.delete(N, M_constr_delete, axis=0)\n",
    "        \n",
    "\n",
    "y = np.linalg.solve(M, N)\n",
    "# np.sum(np.absolute(M[6]))\n",
    "slope = -y\n",
    "\n",
    "theta = np.zeros(shape=2)\n",
    "# constant = np.dot(-y, -theta) + \n",
    "add_term = np.r_[sol['x'], sol['z']].T[0]\n",
    "\n",
    "add_term_constr_delete = []\n",
    "for i in range(len(add_term)):\n",
    "    if np.absolute(add_term[i]) <= 1e-9:\n",
    "        add_term_constr_delete.append(i)\n",
    "add_term = np.delete(add_term, add_term_constr_delete)\n",
    "\n",
    "constant = np.dot(-y, theta) + add_term\n"
   ]
  }
 ],
 "metadata": {
  "kernelspec": {
   "display_name": "Python 3",
   "language": "python",
   "name": "python3"
  },
  "language_info": {
   "codemirror_mode": {
    "name": "ipython",
    "version": 3
   },
   "file_extension": ".py",
   "mimetype": "text/x-python",
   "name": "python",
   "nbconvert_exporter": "python",
   "pygments_lexer": "ipython3",
   "version": "3.6.5"
  }
 },
 "nbformat": 4,
 "nbformat_minor": 2
}
