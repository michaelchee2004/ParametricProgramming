{
 "cells": [
  {
   "cell_type": "markdown",
   "metadata": {},
   "source": [
    "The class need the following functions:\n",
    "- solve for theta\n",
    "- solve for x\n",
    "- form M, N\n",
    "- Calculate x, lambda as function of theta\n",
    "- Calculate boundaries of the region\n",
    "\n",
    "**Trial and error shows that tolerance of identification of active set is of crucial importance!!!!!! If wrong (e.g. got the constraint labelled as active when it is not) the results are very wrong!!!!!**"
   ]
  },
  {
   "cell_type": "code",
   "execution_count": 163,
   "metadata": {},
   "outputs": [],
   "source": [
    "import pyomo.environ as pmo\n",
    "import numpy as np\n",
    "\n",
    "class GenericSolver:\n",
    "    \n",
    "    def __init__(self, A, b, Q, m):\n",
    "        # get no of var and constraints\n",
    "        self.x_card = np.shape(A)[1]\n",
    "        self.c_card = np.shape(A)[0]\n",
    "        \n",
    "        # transform A from matrix to dict\n",
    "        A_init = {}\n",
    "        for i in range(self.c_card):\n",
    "            for j in range(self.x_card):\n",
    "                A_init[(i+1, j+1)] = A[i, j]\n",
    "        \n",
    "        # transform b from vector to dict\n",
    "        b_init = {}\n",
    "        for i in range(self.c_card):\n",
    "            b_init[i+1] = b[i]\n",
    "            \n",
    "        # transform Q from vector to dict\n",
    "        Q_init = {}\n",
    "        for i in range(self.x_card):\n",
    "            for j in range(self.x_card):\n",
    "                Q_init[(i+1, j+1)] = Q[i, j]\n",
    "        \n",
    "        # transform m from vector to dict\n",
    "        m_init = {}\n",
    "        for i in range(self.x_card):\n",
    "            m_init[i+1] = m[i]\n",
    "        \n",
    "        # define pyomo model\n",
    "        self.model = pmo.ConcreteModel()\n",
    "        self.model.n = pmo.RangeSet(1, self.x_card)\n",
    "        self.model.c = pmo.RangeSet(1, self.c_card)\n",
    "        self.model.A = pmo.Param(self.model.c, self.model.n, initialize=A_init)\n",
    "        self.model.b = pmo.Param(self.model.c, initialize=b_init)\n",
    "        self.model.Q = pmo.Param(self.model.n, self.model.n, initialize=Q_init)\n",
    "        self.model.m = pmo.Param(self.model.n, initialize=m_init)\n",
    "        self.model.x = pmo.Var(self.model.n)\n",
    "        self.model.dual = pmo.Suffix(direction=pmo.Suffix.IMPORT)\n",
    "        self.model.constraints = pmo.ConstraintList()\n",
    "        for c in self.model.c:\n",
    "            self.model.constraints.add(\n",
    "                sum(self.model.A[c, i] * self.model.x[i] for i in self.model.n) <= self.model.b[c]\n",
    "            )\n",
    "        self.model.obj = pmo.Objective(\n",
    "            expr=(\n",
    "                0.5 * sum(sum(self.model.Q[i, j] * self.model.x[i] * self.model.x[j] for j in self.model.n) for i in self.model.n)\n",
    "                + sum(self.model.m[i] * self.model.x[i] for i in self.model.n)\n",
    "            )\n",
    "        )\n",
    "        \n",
    "        # define solver\n",
    "        self.solverpath = 'C:\\\\cygwin64\\\\home\\\\user1\\\\Ipopt-3.12.12\\\\bin\\\\ipopt'\n",
    "        self.solver = pmo.SolverFactory('ipopt', tee=False, executable=self.solverpath)\n",
    "        self.solver.options['tol'] = 1e-12\n",
    "    \n",
    "        # define empty output entities\n",
    "        self.soln = None\n",
    "        self.duals = None\n",
    "    \n",
    "    def solve(self):\n",
    "        self.solver.solve(self.model, tee=False)\n",
    "        self.soln = np.empty([self.x_card])\n",
    "        for i in range(self.x_card):\n",
    "            self.soln[i] = self.model.x[i+1].value\n",
    "        self.duals = np.empty([self.c_card])\n",
    "        for c in range(self.c_card):\n",
    "            self.duals[c] = -self.model.dual[self.model.constraints[c+1]]"
   ]
  },
  {
   "cell_type": "code",
   "execution_count": 164,
   "metadata": {},
   "outputs": [],
   "source": [
    "class RedundancyChecker:\n",
    "    \n",
    "    def __init__(self, A, b, tol=1e-9):\n",
    "        self.A = A\n",
    "        self.b = b\n",
    "        self.tol = tol\n",
    "        \n",
    "        # get no of var and constraints\n",
    "        self.x_card = np.shape(A)[1]\n",
    "        self.c_card = np.shape(A)[0]\n",
    "        \n",
    "        # transform A from matrix to dict\n",
    "        A_init = {}\n",
    "        for i in range(self.c_card):\n",
    "            for j in range(self.x_card):\n",
    "                A_init[(i+1, j+1)] = A[i, j]\n",
    "        \n",
    "        # transform b from vector to dict\n",
    "        b_init = {}\n",
    "        for i in range(self.c_card):\n",
    "            b_init[i+1] = b[i]\n",
    "            \n",
    "        # define pyomo model\n",
    "        self.model = pmo.ConcreteModel()\n",
    "        self.model.n = pmo.RangeSet(1, self.x_card)\n",
    "        self.model.c = pmo.RangeSet(1, self.c_card)\n",
    "        self.model.A = pmo.Param(self.model.c, self.model.n, initialize=A_init)\n",
    "        self.model.b = pmo.Param(self.model.c, mutable=True, initialize=b_init)\n",
    "        self.model.x = pmo.Var(self.model.n)\n",
    "        self.model.dual = pmo.Suffix(direction=pmo.Suffix.IMPORT)\n",
    "        self.model.constraints = pmo.ConstraintList()\n",
    "        for c in self.model.c:\n",
    "            self.model.constraints.add(\n",
    "                sum(self.model.A[c, i] * self.model.x[i] for i in self.model.n) <= self.model.b[c]\n",
    "            )\n",
    "        \n",
    "        # define solver\n",
    "        self.solverpath = 'C:\\\\w64\\\\glpsol'\n",
    "       # self.solver = pmo.SolverFactory('glpk', executable=self.solverpath)\n",
    "#         self.solver.options['tol'] = 1e-10\n",
    "        self.solver = pmo.SolverFactory('cplex')\n",
    "#         self.solver.options['tol'] = 1e-10\n",
    "    \n",
    "        # define empty output entities\n",
    "        self.redundancy = None\n",
    "        self.reduced_A = None\n",
    "        self.reduced_b = None\n",
    "        \n",
    "    def check(self):\n",
    "        # for each constraint, delete any old obj, set new obj as Ax of chosen constraint\n",
    "        # and maximise it.\n",
    "        # Deactivate the chosen constraint itself.\n",
    "        # Then check if b-Ax to see if positive (constraint is loose).\n",
    "        # If so, mark as redundant.\n",
    "        self.redundancy = np.zeros([self.c_card])\n",
    "        self.slack = np.zeros([self.c_card])\n",
    "        for c in self.model.c:\n",
    "#             print('c='+ str(c))\n",
    "            try:\n",
    "                self.model.del_component(self.model.obj)\n",
    "            except:\n",
    "                pass\n",
    "            self.model.b[c] += 1e-9\n",
    "            self.model.obj = pmo.Objective(\n",
    "                expr=-sum(self.model.A[c, i] * self.model.x[i] for i in self.model.n) +(self.model.b[c])\n",
    "            )\n",
    "            \n",
    "            self.solver.solve(self.model, tee=False)\n",
    "            self.model.b[c] -= 1e-9\n",
    "            \n",
    "            \n",
    "            self.slack[c-1] = pmo.value(self.model.obj)\n",
    "            if pmo.value(self.model.obj) > self.tol:\n",
    "                self.redundancy[c-1] = 1\n",
    "\n",
    "        self.reduced_A = self.A[self.redundancy == 0]\n",
    "        self.reduced_b = self.b[self.redundancy == 0]"
   ]
  },
  {
   "cell_type": "markdown",
   "metadata": {},
   "source": [
    "Problem statement"
   ]
  },
  {
   "cell_type": "code",
   "execution_count": 165,
   "metadata": {},
   "outputs": [],
   "source": [
    "A = np.array(\n",
    "    [[1.0, .0, -3.16515, -3.7546],\n",
    "     [-1.0, .0, 3.16515, 3.7546],\n",
    "     [-0.0609, .0, -0.17355, 0.2717],\n",
    "     [-0.0064, .0, -0.06585, -0.4714],\n",
    "     [.0, 1.0, -1.81960, 3.2841],\n",
    "     [.0, -1.0, 1.81960, -3.2841],\n",
    "     [.0, .0, -1.0, .0],\n",
    "     [.0, .0, 1.0, .0],\n",
    "     [.0, .0, .0, -1.0],\n",
    "     [.0, .0, .0, 1.0], \n",
    "     [.0, .0, 3.165150, 3.754600],\n",
    "     [.0, .0, 1.81960, -3.2841]\n",
    "    #[.0, .0, 2.82163241,  -2.09545779],\n",
    "     #  [.0, .0, 0.07350042, 0.05290033] \n",
    "    ]     \n",
    ")\n",
    "\n",
    "b = np.array(\n",
    "    [0.417425, 3.582575, 0.413225, 0.467075, 1.090200, 2.909800, .0, 1.0, .0, 1.0, 3.5825751, -1.090200] #-3.582575,  #  -1.090200  # 0.043843, ,0.06334207\n",
    ")\n",
    "\n",
    "m = np.array(\n",
    "    [.0, .0, .0, .0]\n",
    ")\n",
    "\n",
    "Q = np.array(\n",
    "    [[0.0098*2, 0.0063, .0, .0],\n",
    "     [0.0063, 0.00995*2, .0, .0],\n",
    "     [.0, .0, .0, .0],\n",
    "     [.0, .0, .0, .0]]\n",
    ")\n",
    "\n",
    "theta_count = 2\n"
   ]
  },
  {
   "cell_type": "code",
   "execution_count": 166,
   "metadata": {},
   "outputs": [],
   "source": [
    "class RegionSolver:\n",
    "    \"\"\"\n",
    "    Returns equations representing x, lambda and boundaries of a math problem in terms of theta.\n",
    "    self.soln_slope\n",
    "    self.soln_constant\n",
    "    self.boundary_slope\n",
    "    self.boundary_constant\n",
    "    \"\"\"\n",
    "    def __init__(self, A, b, Q, m, theta_count):\n",
    "        self.A = A\n",
    "        self.b = b\n",
    "        self.Q = Q\n",
    "        self.m = m\n",
    "        self.theta_count = theta_count\n",
    "        self.x_count = np.shape(A)[1] - self.theta_count\n",
    "        self.var_count = np.shape(A)[1]\n",
    "        self.c_count = np.shape(A)[0]\n",
    "        \n",
    "        # returned from _solve_theta\n",
    "        self.theta = None\n",
    "        \n",
    "        # returned from _solve_x\n",
    "        self.x_problem_A = None\n",
    "        self.x_problem_b = None\n",
    "        self.x_problem_theta_cols = None\n",
    "        self.x = None\n",
    "        self.duals = None\n",
    "\n",
    "        # returned from _get_MN\n",
    "        self.M = None\n",
    "        self.N = None\n",
    "        self.MN = None\n",
    "        \n",
    "        # returned from _get_soln_params\n",
    "        self.soln_slope = None\n",
    "        self.soln_constant = None\n",
    "        \n",
    "        # returned from _set_boundaries\n",
    "        self.boundary_slope = None\n",
    "        self.boundary_constant = None\n",
    "        \n",
    "    def _solve_theta(self):\n",
    "        theta_problem = GenericSolver(self.A, self.b - np.abs(self.b)*1e-3, self.Q, self.m)\n",
    "        theta_problem.solve()\n",
    "        self.theta = theta_problem.soln[-self.theta_count:]\n",
    "        #self.theta = np.array([0, 0])\n",
    "       \n",
    "    def _solve_x(self):\n",
    "        # define A without theta, and ignore constraints just for theta\n",
    "        self.x_problem_A = self.A[:, :(self.var_count - self.theta_count)]\n",
    "\n",
    "        # define b ignoring constraints just for theta\n",
    "        self.x_problem_theta_cols = self.A[:, -self.theta_count:]\n",
    "        self.x_problem_b = self.b - np.dot(self.x_problem_theta_cols, self.theta)\n",
    "        \n",
    "        delete_rows = []\n",
    "        for r in range(self.c_count):\n",
    "            if np.sum(np.abs(self.x_problem_A[r])) == 0:\n",
    "                delete_rows.append(r)\n",
    "        self.x_problem_A = np.delete(self.x_problem_A, delete_rows, axis=0)\n",
    "        self.x_problem_b = np.delete(self.x_problem_b, delete_rows)\n",
    "#         # !!!!dirty hack!!!!\n",
    "#         region_problem.x_problem_b[0]=30000+0.000001\n",
    "        self.x_problem_theta_cols = np.delete(self.x_problem_theta_cols, delete_rows, axis=0)\n",
    "        self.x_problem_b_original = np.delete(self.b, delete_rows)\n",
    "        \n",
    "        # solve for x, duals\n",
    "        x_problem = GenericSolver(self.x_problem_A, self.x_problem_b, self.Q, self.m)\n",
    "        x_problem.solve()\n",
    "        self.x = x_problem.soln\n",
    "        self.duals = x_problem.duals\n",
    "    \n",
    "    def _get_MN(self):\n",
    "        M_len = self.x_count + np.shape(self.x_problem_A)[0]\n",
    "        self.M = np.zeros([M_len, M_len])\n",
    "        # note it is impossible for the previous row reduction to make Q unfit for top left, \n",
    "        # because the first rows include the objective function so are impossible to be removed\n",
    "        M_top_left_input = self.Q[:self.x_count, :self.x_count]\n",
    "#         for i in range(M_top_left_input.shape[0]):\n",
    "#             M_top_left_input[i, i] = M_top_left_input[i, i]/2.0\n",
    "        self.M[:self.x_count, :self.x_count] = M_top_left_input\n",
    "        self.M[:self.x_count, self.x_count:] = self.x_problem_A.T\n",
    "        self.M[self.x_count:, :self.x_count] = np.multiply(self.x_problem_A.T, self.duals).T\n",
    "\n",
    "        # if whole row is zero, multiplier is zero so delete row\n",
    "        delete_rows = []\n",
    "        for r in range(M_len):\n",
    "            if np.sum(np.abs(self.M[r])) <= 1e-8:\n",
    "                delete_rows.append(r)\n",
    "        self.M = np.delete(self.M, delete_rows, axis=0)    \n",
    "        self.M = np.delete(self.M, delete_rows, axis=1)\n",
    "        \n",
    "        # M has (no of var + no of constraints) rows.\n",
    "        # For matrices theta_cols and duals, they only have rows equal to no of constraints.\n",
    "        # Here we want to delete constraints that are redundant, but list delete_rows count in rows of M.\n",
    "        # So count back no of var to compute rows to delete for theta_cols and duals.\n",
    "        delete_rows_constraints_only = delete_rows - np.ones(len(delete_rows)) * self.x_count\n",
    "        delete_rows_constraints_only = delete_rows_constraints_only.astype('int')\n",
    "        \n",
    "        # delete redundant rows from theta_cols, duals and N also to ensure non-singular matrix\n",
    "        reduced_theta_cols = np.delete(self.x_problem_theta_cols, delete_rows_constraints_only, axis=0)\n",
    "        reduced_duals = np.delete(self.duals, delete_rows_constraints_only)\n",
    "        \n",
    "        self.N = np.zeros([np.shape(self.M)[0], self.theta_count])\n",
    "        self.N[self.x_count:] = np.multiply(reduced_theta_cols.T, reduced_duals).T\n",
    "        \n",
    "        MN_result = np.linalg.solve(self.M, self.N)\n",
    "        self.MN = np.zeros([M_len, self.theta_count])\n",
    "        kept_rows = np.delete(np.array(range(M_len)), delete_rows)\n",
    "        \n",
    "        for i in range(len(kept_rows)):\n",
    "            self.MN[kept_rows[i], :] = MN_result[i]\n",
    "        \n",
    "    def _get_soln_params(self):\n",
    "        self.soln_slope = -self.MN\n",
    "        self.soln_constant = np.dot(-self.MN, -self.theta) + np.r_[self.x, self.duals]\n",
    "        \n",
    "    def _set_boundaries(self):\n",
    "        # substitute x = G * theta + H into Ax <= b\n",
    "        # Means AG * theta + AH <= b\n",
    "        # A: x_problem_A, remove active constraints\n",
    "        # b: x_problem_b, remove active constraints\n",
    "        # G: soln_slope, for x (so remove lambda)\n",
    "        # H: soln_constant, for x (so remove lambda)\n",
    "        #\n",
    "        # Then need to add back the theta theta cols into the constraints. We can use x_problem_theta_cols\n",
    "        \n",
    "        # formulate A, b\n",
    "        sub_A = self.x_problem_A[np.abs(self.duals) <= 1e-10]        \n",
    "        sub_b = self.x_problem_b_original[np.abs(self.duals) <= 1e-10]\n",
    "        sub_theta_cols = self.x_problem_theta_cols[np.abs(self.duals) <= 1e-10]\n",
    "        \n",
    "        sub_G = self.soln_slope[:self.x_count]\n",
    "        sub_H = self.soln_constant[:self.x_count]\n",
    "        \n",
    "        lambda_A = self.soln_slope[self.x_count:] * -1.0\n",
    "        useful_lambda_A_rows = np.abs(np.sum(lambda_A, axis=1)) >= 1e-8\n",
    "        lambda_A = lambda_A[useful_lambda_A_rows]\n",
    "        lambda_b = self.soln_constant[self.x_count:]\n",
    "        lambda_b = lambda_b[useful_lambda_A_rows]\n",
    "        \n",
    "        AG = np.dot(sub_A, sub_G)\n",
    "        AH = np.dot(sub_A, sub_H)\n",
    "        \n",
    "        AG_with_theta_cols = AG + sub_theta_cols\n",
    "        useful_AG_with_theta_cols = np.sum(np.abs(AG_with_theta_cols), axis=1) >= 1e-8\n",
    "        AG_with_theta_cols = AG_with_theta_cols[useful_AG_with_theta_cols]\n",
    "        AG_with_theta_cols = np.round(AG_with_theta_cols, decimals=6)\n",
    "        \n",
    "        new_rhs = sub_b - AH\n",
    "        new_rhs = new_rhs[useful_AG_with_theta_cols]\n",
    "        \n",
    "        A_theta_only_rows = np.sum(np.abs(self.A[:, :self.x_count]), axis=1) <= 1e-8\n",
    "        \n",
    "        print('AG_with_theta_cols')\n",
    "        print(AG_with_theta_cols)\n",
    "        print('theta only rows')\n",
    "        print(self.A[A_theta_only_rows][:, -self.theta_count:])\n",
    "        print('lamba_A')\n",
    "        print(lambda_A)\n",
    "        \n",
    "        boundary_slope = np.concatenate((AG_with_theta_cols,\n",
    "                                         self.A[A_theta_only_rows][:, -self.theta_count:],\n",
    "                                         lambda_A), axis=0)\n",
    "        boundary_constant = np.concatenate((new_rhs, self.b[A_theta_only_rows], lambda_b))   \n",
    "        print('boundary_slope=')\n",
    "        print(boundary_slope)\n",
    "        print('boundary_constant=')\n",
    "        print(boundary_constant)\n",
    "        reduction_problem = RedundancyChecker(boundary_slope, boundary_constant)\n",
    "        reduction_problem.check()\n",
    "        print('slack=')\n",
    "        print(reduction_problem.slack)\n",
    "\n",
    "        self.boundary_slope = reduction_problem.reduced_A\n",
    "        self.boundary_constant = reduction_problem.reduced_b\n",
    "        \n",
    "    def solve(self):\n",
    "        self._solve_theta()\n",
    "        self._solve_x()\n",
    "        self._get_MN()\n",
    "        self._get_soln_params()\n",
    "        self._set_boundaries()"
   ]
  },
  {
   "cell_type": "code",
   "execution_count": 167,
   "metadata": {},
   "outputs": [],
   "source": [
    "region_problem = RegionSolver(A, b, Q, m, theta_count)\n",
    "region_problem._solve_theta()"
   ]
  },
  {
   "cell_type": "code",
   "execution_count": 168,
   "metadata": {
    "scrolled": true
   },
   "outputs": [
    {
     "data": {
      "text/plain": [
       "array([ 0.417425 ,  3.582575 ,  0.413225 ,  0.467075 ,  1.0902   ,\n",
       "        2.9098   ,  0.       ,  1.       ,  0.       ,  1.       ,\n",
       "        3.5825751, -1.0902   ])"
      ]
     },
     "execution_count": 168,
     "metadata": {},
     "output_type": "execute_result"
    }
   ],
   "source": [
    "b"
   ]
  },
  {
   "cell_type": "code",
   "execution_count": 169,
   "metadata": {},
   "outputs": [
    {
     "data": {
      "text/plain": [
       "array([0.17472503, 0.42910382])"
      ]
     },
     "execution_count": 169,
     "metadata": {},
     "output_type": "execute_result"
    }
   ],
   "source": [
    "region_problem.theta"
   ]
  },
  {
   "cell_type": "code",
   "execution_count": 170,
   "metadata": {},
   "outputs": [],
   "source": [
    "# region_problem.theta = np.array([0.43, 0.6]) #array([0.6962668, 0.3672803])"
   ]
  },
  {
   "cell_type": "code",
   "execution_count": 171,
   "metadata": {},
   "outputs": [],
   "source": [
    "region_problem._solve_x()"
   ]
  },
  {
   "cell_type": "code",
   "execution_count": 172,
   "metadata": {},
   "outputs": [
    {
     "data": {
      "text/plain": [
       "array([ 0.00035042, -0.00109019])"
      ]
     },
     "execution_count": 172,
     "metadata": {},
     "output_type": "execute_result"
    }
   ],
   "source": [
    "region_problem.x "
   ]
  },
  {
   "cell_type": "code",
   "execution_count": 173,
   "metadata": {},
   "outputs": [],
   "source": [
    "#region_problem.x  = np.array([ 0.0033, -0.005])"
   ]
  },
  {
   "cell_type": "code",
   "execution_count": 174,
   "metadata": {},
   "outputs": [
    {
     "data": {
      "text/plain": [
       "array([4.85971176e-14, 8.84147878e-14, 3.83637251e-13, 1.84240116e-13,\n",
       "       1.94871264e-05, 3.13595023e-14])"
      ]
     },
     "execution_count": 174,
     "metadata": {},
     "output_type": "execute_result"
    }
   ],
   "source": [
    "region_problem.duals\n"
   ]
  },
  {
   "cell_type": "code",
   "execution_count": 175,
   "metadata": {},
   "outputs": [],
   "source": [
    "region_problem.M"
   ]
  },
  {
   "cell_type": "code",
   "execution_count": 176,
   "metadata": {},
   "outputs": [],
   "source": [
    "region_problem._get_MN()"
   ]
  },
  {
   "cell_type": "code",
   "execution_count": 177,
   "metadata": {},
   "outputs": [
    {
     "data": {
      "text/plain": [
       "array([[1.96000000e-02, 6.30000000e-03, 0.00000000e+00],\n",
       "       [6.30000000e-03, 1.99000000e-02, 1.00000000e+00],\n",
       "       [0.00000000e+00, 1.94871264e-05, 0.00000000e+00]])"
      ]
     },
     "execution_count": 177,
     "metadata": {},
     "output_type": "execute_result"
    }
   ],
   "source": [
    "region_problem.M"
   ]
  },
  {
   "cell_type": "code",
   "execution_count": 178,
   "metadata": {},
   "outputs": [
    {
     "data": {
      "text/plain": [
       "array([[ 0.00000000e+00,  0.00000000e+00],\n",
       "       [ 0.00000000e+00,  0.00000000e+00],\n",
       "       [-3.54587752e-05,  6.39976718e-05]])"
      ]
     },
     "execution_count": 178,
     "metadata": {},
     "output_type": "execute_result"
    }
   ],
   "source": [
    "region_problem.N"
   ]
  },
  {
   "cell_type": "code",
   "execution_count": 179,
   "metadata": {},
   "outputs": [
    {
     "data": {
      "text/plain": [
       "array([2.79846066e-13, 3.31962162e-13])"
      ]
     },
     "execution_count": 179,
     "metadata": {},
     "output_type": "execute_result"
    }
   ],
   "source": [
    "region_problem.x_problem_theta_cols[1] * region_problem.duals[1]"
   ]
  },
  {
   "cell_type": "code",
   "execution_count": 180,
   "metadata": {},
   "outputs": [],
   "source": [
    "region_problem._get_soln_params()"
   ]
  },
  {
   "cell_type": "code",
   "execution_count": 181,
   "metadata": {},
   "outputs": [
    {
     "data": {
      "text/plain": [
       "array([[-0.58487143,  1.05560357],\n",
       "       [ 1.8196    , -3.2841    ],\n",
       "       [-0.        , -0.        ],\n",
       "       [-0.        , -0.        ],\n",
       "       [-0.        , -0.        ],\n",
       "       [-0.        , -0.        ],\n",
       "       [-0.03252535,  0.05870329],\n",
       "       [-0.        , -0.        ]])"
      ]
     },
     "execution_count": 181,
     "metadata": {},
     "output_type": "execute_result"
    }
   ],
   "source": [
    "region_problem.soln_slope"
   ]
  },
  {
   "cell_type": "code",
   "execution_count": 182,
   "metadata": {},
   "outputs": [
    {
     "data": {
      "text/plain": [
       "array([-3.50421430e-01,  1.09020000e+00,  4.85971176e-14,  8.84147878e-14,\n",
       "        3.83637251e-13,  1.84240116e-13, -1.94873251e-02,  3.13595023e-14])"
      ]
     },
     "execution_count": 182,
     "metadata": {},
     "output_type": "execute_result"
    }
   ],
   "source": [
    "region_problem.soln_constant"
   ]
  },
  {
   "cell_type": "code",
   "execution_count": 183,
   "metadata": {
    "scrolled": true
   },
   "outputs": [
    {
     "name": "stdout",
     "output_type": "stream",
     "text": [
      "AG_with_theta_cols\n",
      "[[-3.750021 -2.698996]\n",
      " [ 3.750021  2.698996]\n",
      " [-0.137931  0.207414]\n",
      " [-0.062107 -0.478156]]\n",
      "theta only rows\n",
      "[[-1.       0.     ]\n",
      " [ 1.       0.     ]\n",
      " [ 0.      -1.     ]\n",
      " [ 0.       1.     ]\n",
      " [ 3.16515  3.7546 ]\n",
      " [ 1.8196  -3.2841 ]]\n",
      "lamba_A\n",
      "[[ 0.03252535 -0.05870329]]\n",
      "boundary_slope=\n",
      "[[-3.750021   -2.698996  ]\n",
      " [ 3.750021    2.698996  ]\n",
      " [-0.137931    0.207414  ]\n",
      " [-0.062107   -0.478156  ]\n",
      " [-1.          0.        ]\n",
      " [ 1.          0.        ]\n",
      " [ 0.         -1.        ]\n",
      " [ 0.          1.        ]\n",
      " [ 3.16515     3.7546    ]\n",
      " [ 1.8196     -3.2841    ]\n",
      " [ 0.03252535 -0.05870329]]\n",
      "boundary_constant=\n",
      "[ 0.76784643  3.23215357  0.39188433  0.4648323   0.          1.\n",
      "  0.          1.          3.5825751  -1.0902     -0.01948733]\n",
      "slack=\n",
      "[ 1.66381350e+00  3.38904864e-07  1.93973444e-01  6.23562449e-01\n",
      " -1.00000000e-09  5.54624999e-01  3.31963096e-01  4.58171044e-02\n",
      " -1.00000008e-09  3.54385432e-09 -6.33463976e-11]\n"
     ]
    }
   ],
   "source": [
    "region_problem._set_boundaries()"
   ]
  },
  {
   "cell_type": "code",
   "execution_count": 184,
   "metadata": {},
   "outputs": [
    {
     "data": {
      "text/plain": [
       "array([[-0.58487143,  1.05560357],\n",
       "       [ 1.8196    , -3.2841    ],\n",
       "       [-0.        , -0.        ],\n",
       "       [-0.        , -0.        ],\n",
       "       [-0.        , -0.        ],\n",
       "       [-0.        , -0.        ],\n",
       "       [-0.03252535,  0.05870329],\n",
       "       [-0.        , -0.        ]])"
      ]
     },
     "execution_count": 184,
     "metadata": {},
     "output_type": "execute_result"
    }
   ],
   "source": [
    "region_problem.soln_slope"
   ]
  },
  {
   "cell_type": "code",
   "execution_count": 185,
   "metadata": {},
   "outputs": [
    {
     "data": {
      "text/plain": [
       "array([-3.50421430e-01,  1.09020000e+00,  4.85971176e-14,  8.84147878e-14,\n",
       "        3.83637251e-13,  1.84240116e-13, -1.94873251e-02,  3.13595023e-14])"
      ]
     },
     "execution_count": 185,
     "metadata": {},
     "output_type": "execute_result"
    }
   ],
   "source": [
    "region_problem.soln_constant"
   ]
  },
  {
   "cell_type": "code",
   "execution_count": 186,
   "metadata": {},
   "outputs": [
    {
     "data": {
      "text/plain": [
       "array([[-1.        ,  0.        ],\n",
       "       [ 3.16515   ,  3.7546    ],\n",
       "       [ 0.03252535, -0.05870329]])"
      ]
     },
     "execution_count": 186,
     "metadata": {},
     "output_type": "execute_result"
    }
   ],
   "source": [
    "region_problem.boundary_slope"
   ]
  },
  {
   "cell_type": "code",
   "execution_count": 187,
   "metadata": {},
   "outputs": [
    {
     "data": {
      "text/plain": [
       "array([ 0.        ,  3.5825751 , -0.01948733])"
      ]
     },
     "execution_count": 187,
     "metadata": {},
     "output_type": "execute_result"
    }
   ],
   "source": [
    "region_problem.boundary_constant"
   ]
  },
  {
   "cell_type": "code",
   "execution_count": 188,
   "metadata": {
    "scrolled": true
   },
   "outputs": [
    {
     "data": {
      "text/plain": [
       "array([[-1.        ,  0.        ,  0.        ],\n",
       "       [ 3.16515   ,  3.7546    ,  3.5825751 ],\n",
       "       [ 0.03252535, -0.05870329, -0.01948733]])"
      ]
     },
     "execution_count": 188,
     "metadata": {},
     "output_type": "execute_result"
    }
   ],
   "source": [
    "np.concatenate([region_problem.boundary_slope, np.array([region_problem.boundary_constant]).T], axis=1)"
   ]
  },
  {
   "cell_type": "code",
   "execution_count": 189,
   "metadata": {},
   "outputs": [
    {
     "data": {
      "text/plain": [
       "array([ 64.14403601, -47.63556798])"
      ]
     },
     "execution_count": 189,
     "metadata": {},
     "output_type": "execute_result"
    }
   ],
   "source": [
    "np.array([2.821632, -2.095441])/0.043989"
   ]
  },
  {
   "cell_type": "code",
   "execution_count": 190,
   "metadata": {},
   "outputs": [],
   "source": [
    "checker = RedundancyChecker(region_problem.boundary_slope, region_problem.boundary_constant)\n",
    "checker.check()"
   ]
  },
  {
   "cell_type": "code",
   "execution_count": 191,
   "metadata": {},
   "outputs": [
    {
     "data": {
      "text/plain": [
       "array([4.85971176e-14, 8.84147878e-14, 3.83637251e-13, 1.84240116e-13,\n",
       "       1.94871264e-05, 3.13595023e-14])"
      ]
     },
     "execution_count": 191,
     "metadata": {},
     "output_type": "execute_result"
    }
   ],
   "source": [
    "region_problem.duals"
   ]
  },
  {
   "cell_type": "code",
   "execution_count": 192,
   "metadata": {},
   "outputs": [
    {
     "data": {
      "text/plain": [
       "array([ 3.34318258e+00, -1.00000008e-09,  1.84470593e-01,  7.69215852e-01,\n",
       "       -1.00000000e-09,  5.54625016e-01,  5.78729125e-01, -1.00000008e-09,\n",
       "       -1.00000008e-09, -9.99999895e-10,  1.06248560e-09,  9.80133454e-10])"
      ]
     },
     "execution_count": 192,
     "metadata": {},
     "output_type": "execute_result"
    }
   ],
   "source": [
    "RR = np.array([[-3.750021428571, -2.698996428571],\n",
    " [ 3.750021428571,  2.698996428571],\n",
    " [-0.13793133     , 0.2074137425  ],\n",
    " [-0.062106822857 ,-0.478155862857],\n",
    " [-1.             , 0.            ],\n",
    " [ 1.             , 0.            ],\n",
    " [ 0.             ,-1.            ],\n",
    " [ 0.             , 1.            ],\n",
    " [-3.16515        ,-3.7546        ],\n",
    " [ 2.82163241206  ,-2.095457788945],\n",
    " [ 0.07350042     , 0.05290033    ],\n",
    " [ 0.03252535     ,-0.0587032875  ]])\n",
    "\n",
    "SS = np.array([ 0.767846419362,  3.232153580638,  0.391884335561,  0.464832302916,\n",
    "  0.     ,         1.      ,        0.    ,          1.,\n",
    " -3.582575 ,       0.043982036287,  0.063350211243, -0.019487324 ])\n",
    "\n",
    "rcheck = RedundancyChecker(RR, SS)\n",
    "rcheck.check()\n",
    "rcheck.slack"
   ]
  }
 ],
 "metadata": {
  "kernelspec": {
   "display_name": "Python 3 (ipykernel)",
   "language": "python",
   "name": "python3"
  },
  "language_info": {
   "codemirror_mode": {
    "name": "ipython",
    "version": 3
   },
   "file_extension": ".py",
   "mimetype": "text/x-python",
   "name": "python",
   "nbconvert_exporter": "python",
   "pygments_lexer": "ipython3",
   "version": "3.9.8"
  }
 },
 "nbformat": 4,
 "nbformat_minor": 2
}
