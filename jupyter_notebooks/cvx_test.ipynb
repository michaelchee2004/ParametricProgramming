{
 "cells": [
  {
   "cell_type": "markdown",
   "metadata": {},
   "source": [
    "The purpose of this notebook is to test how redundant constraint affects cvx. <br/>\n"
   ]
  },
  {
   "cell_type": "markdown",
   "metadata": {},
   "source": [
    "Problem without redundant constraint."
   ]
  },
  {
   "cell_type": "code",
   "execution_count": 1,
   "metadata": {},
   "outputs": [
    {
     "name": "stdout",
     "output_type": "stream",
     "text": [
      "[ 4.66e+00]\n",
      "[ 8.75e+01]\n",
      "[-0.00e+00]\n",
      "[-0.00e+00]\n",
      "[-0.00e+00]\n",
      "\n"
     ]
    }
   ],
   "source": [
    "import cvxopt as cvx\n",
    "import numpy as np\n",
    "\n",
    "np.set_printoptions(suppress=True)\n",
    "\n",
    "c = cvx.matrix([-8.1, -10.8])\n",
    "\n",
    "x1 = np.array([0.8, 0.05, 0.1, -1.0, 0.0])\n",
    "x2 = np.array([0.44, 0.1, 0.36, 0.0, -1.0])\n",
    "b =cvx.matrix([24000.0 + 0.0, 2000.0 + 0.0, 6000.0, 0.0, 0.0])\n",
    "A = np.stack([x1, x2]).T\n",
    "\n",
    "\n",
    "A = cvx.matrix(A)\n",
    "b = cvx.matrix(b)\n",
    "c = cvx.matrix(c)\n",
    "\n",
    "cvx.solvers.options['feastol'] = 1e-11\n",
    "sol = cvx.solvers.lp(c, A, b, solver='glpk')\n",
    "print(sol['z'])\n"
   ]
  },
  {
   "cell_type": "markdown",
   "metadata": {},
   "source": [
    "Problem with redundant constraint. We copy the first constraint."
   ]
  },
  {
   "cell_type": "code",
   "execution_count": 2,
   "metadata": {},
   "outputs": [
    {
     "name": "stdout",
     "output_type": "stream",
     "text": [
      "[ 4.66e+00]\n",
      "[ 8.75e+01]\n",
      "[-0.00e+00]\n",
      "[-0.00e+00]\n",
      "[-0.00e+00]\n",
      "[-0.00e+00]\n",
      "\n"
     ]
    }
   ],
   "source": [
    "np.set_printoptions(suppress=True)\n",
    "\n",
    "c = cvx.matrix([-8.1, -10.8])\n",
    "\n",
    "x1 = np.array([0.8, 0.05, 0.1, -1.0, 0.0, \n",
    "               0.8])\n",
    "x2 = np.array([0.44, 0.1, 0.36, 0.0, -1.0,\n",
    "               0.44])\n",
    "b =cvx.matrix([24000.0 + 0.0, 2000.0 + 0.0, 6000.0, 0.0, 0.0, \n",
    "               24000.0])\n",
    "A = np.stack([x1, x2]).T\n",
    "\n",
    "\n",
    "A = cvx.matrix(A)\n",
    "b = cvx.matrix(b)\n",
    "c = cvx.matrix(c)\n",
    "\n",
    "cvx.solvers.options['feastol'] = 1e-11\n",
    "sol = cvx.solvers.lp(c, A, b, solver='glpk')\n",
    "print(sol['z'])"
   ]
  },
  {
   "cell_type": "markdown",
   "metadata": {},
   "source": [
    "Seems ok?"
   ]
  }
 ],
 "metadata": {
  "kernelspec": {
   "display_name": "Python 3",
   "language": "python",
   "name": "python3"
  },
  "language_info": {
   "codemirror_mode": {
    "name": "ipython",
    "version": 3
   },
   "file_extension": ".py",
   "mimetype": "text/x-python",
   "name": "python",
   "nbconvert_exporter": "python",
   "pygments_lexer": "ipython3",
   "version": "3.6.12"
  }
 },
 "nbformat": 4,
 "nbformat_minor": 4
}
