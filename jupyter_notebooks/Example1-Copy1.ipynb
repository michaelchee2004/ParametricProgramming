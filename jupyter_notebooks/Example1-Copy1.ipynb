{
 "cells": [
  {
   "cell_type": "markdown",
   "metadata": {},
   "source": [
    "$ max{\\,8.1x_1\\, + \\,10.8x_2} $\n",
    "$s.t.$\n",
    "$0.8$"
   ]
  },
  {
   "cell_type": "code",
   "execution_count": 6,
   "metadata": {},
   "outputs": [],
   "source": [
    "from pyomo.environ import *\n",
    "\n",
    "class OptiModel:\n",
    "    \n",
    "    def __init__(self):\n",
    "        self.m = ConcreteModel()\n",
    "        self.m.dual = Suffix(direction=Suffix.IMPORT)\n",
    "        self.m.x1 = Var(domain=NonNegativeReals)\n",
    "        self.m.x2 = Var(domain=NonNegativeReals)\n",
    "        self.m.obj = Objective(\n",
    "            expr=- 8.1*self.m.x1 - 10.8*self.m.x2,\n",
    "            sense=minimize\n",
    "        )\n",
    "        self.m.c1 = Constraint(rule=self.c1_rule)\n",
    "        self.m.c2 = Constraint(rule=self.c2_rule)\n",
    "        self.m.c3 = Constraint(rule=self.c3_rule)\n",
    "        \n",
    "        solverpath = 'C:\\\\w64\\\\glpsol'\n",
    "        self.solver = SolverFactory('glpk', executable=solverpath)\n",
    "#         self.solver = SolverManagerFactory('neos')\n",
    "        \n",
    "#         self.m.constraints = ConstraintList()\n",
    "#         self.m.constraints.add(\n",
    "#             0.8*self.m.x1 + 0.44*self.m.x2  <= 24000.0 + 6000.2\n",
    "#         )\n",
    "        \n",
    "#         self.m.constraints.add(\n",
    "#             0.05*self.m.x1 + 0.1*self.m.x2 <= 2000.0 + 409.84\n",
    "#         )\n",
    "        \n",
    "#         self.m.constraints.add(\n",
    "#             0.1*self.m.x1 + 0.36*self.m.x2 <= 6000.0\n",
    "#         )\n",
    "        \n",
    "#         self.m.obj = Objective(\n",
    "#             expr=- 8.1*self.m.x1 - 10.8*self.m.x2,\n",
    "#             sense=minimize\n",
    "#         )\n",
    "\n",
    "    def c1_rule(self, m):\n",
    "        return 0.8*m.x1 + 0.44*m.x2  <= 24000.0 + 6000.2\n",
    "    \n",
    "    def c2_rule(self, m):\n",
    "        return 0.05*m.x1 + 0.1*m.x2 <= 2000.0 + 409.84\n",
    "    \n",
    "    def c3_rule(self, m):\n",
    "        return 0.1*m.x1 + 0.36*m.x2 <= 6000.0\n",
    "        \n",
    "\n",
    "        \n",
    "    def solve(self):\n",
    "        self.solver.solve(self.m, tee=True)\n",
    "#         self.solver.solve(self.m, opt='ipopt', tee=True, keepfiles=True, logfile='mylog.log')\n",
    "    \n",
    "    def write(self):\n",
    "        print(self.m.x1.value, self.m.x2.value)"
   ]
  },
  {
   "cell_type": "code",
   "execution_count": 7,
   "metadata": {},
   "outputs": [
    {
     "name": "stdout",
     "output_type": "stream",
     "text": [
      "GLPSOL: GLPK LP/MIP Solver, v4.65\n",
      "Parameter(s) specified in the command line:\n",
      " --write C:\\Users\\user1\\AppData\\Local\\Temp\\tmpnq12l2dd.glpk.raw --wglp C:\\Users\\user1\\AppData\\Local\\Temp\\tmpemckgh8c.glpk.glp\n",
      " --cpxlp C:\\Users\\user1\\AppData\\Local\\Temp\\tmpqxmqzntv.pyomo.lp\n",
      "Reading problem data from 'C:\\Users\\user1\\AppData\\Local\\Temp\\tmpqxmqzntv.pyomo.lp'...\n",
      "4 rows, 3 columns, 7 non-zeros\n",
      "31 lines were read\n",
      "Writing problem data to 'C:\\Users\\user1\\AppData\\Local\\Temp\\tmpemckgh8c.glpk.glp'...\n",
      "23 lines were written\n",
      "GLPK Simplex Optimizer, v4.65\n",
      "4 rows, 3 columns, 7 non-zeros\n",
      "Preprocessing...\n",
      "3 rows, 2 columns, 6 non-zeros\n",
      "Scaling...\n",
      " A: min|aij| =  5.000e-02  max|aij| =  8.000e-01  ratio =  1.600e+01\n",
      "GM: min|aij| =  6.252e-01  max|aij| =  1.600e+00  ratio =  2.558e+00\n",
      "EQ: min|aij| =  3.909e-01  max|aij| =  1.000e+00  ratio =  2.558e+00\n",
      "Constructing initial basis...\n",
      "Size of triangular part is 3\n",
      "*     0: obj =   0.000000000e+00 inf =   0.000e+00 (2)\n",
      "*     2: obj =  -3.505586524e+05 inf =   0.000e+00 (0)\n",
      "OPTIMAL LP SOLUTION FOUND\n",
      "Time used:   0.0 secs\n",
      "Memory used: 0.0 Mb (40424 bytes)\n",
      "Writing basic solution to 'C:\\Users\\user1\\AppData\\Local\\Temp\\tmpnq12l2dd.glpk.raw'...\n",
      "16 lines were written\n",
      "33442.9379310345 7376.93103448276\n"
     ]
    }
   ],
   "source": [
    "mymodel = OptiModel()\n",
    "mymodel.solve()\n",
    "mymodel.write()"
   ]
  },
  {
   "cell_type": "code",
   "execution_count": 8,
   "metadata": {},
   "outputs": [
    {
     "name": "stdout",
     "output_type": "stream",
     "text": [
      "dual : Direction=Suffix.IMPORT, Datatype=Suffix.FLOAT\n",
      "    Key : Value\n",
      "     c1 :  -4.6551724137931\n",
      "     c2 : -87.5172413793103\n",
      "     c3 :               0.0\n"
     ]
    }
   ],
   "source": [
    "# fill M, m by n matrix. \n",
    "# m is no. of variables + no. of active constraints\n",
    "# n is also no. of variables + no. of active constraints\n",
    "# so over all it must be a square matrix.\n",
    "\n",
    "i = 1\n",
    "# print(mymodel.m.constraints[i]._body)\n",
    "mymodel.m.dual.display()#\n",
    "# print(list(mymodel.m.component_data_objects(Var)))\n",
    "# expr.current.decompose_term((mymodel.m.constraints[i]._body))\n",
    "# list(mymodel.m.dual\n"
   ]
  },
  {
   "cell_type": "code",
   "execution_count": 191,
   "metadata": {},
   "outputs": [
    {
     "name": "stdout",
     "output_type": "stream",
     "text": [
      "no_of_var=2\n",
      "no_of_constr=3\n",
      "[ 4.65517241 87.51724138 -0.        ]\n"
     ]
    },
    {
     "data": {
      "text/plain": [
       "array([[ -1.72413793,   7.5862069 ],\n",
       "       [  0.86206897, -13.79310345],\n",
       "       [  0.        ,   0.        ],\n",
       "       [  0.        ,   0.        ]])"
      ]
     },
     "execution_count": 191,
     "metadata": {},
     "output_type": "execute_result"
    }
   ],
   "source": [
    "import numpy as np\n",
    "\n",
    "# get no of variables\n",
    "var_list = list(mymodel.m.component_data_objects(Var))\n",
    "no_of_var = len(var_list)\n",
    "print('no_of_var=' + str(no_of_var)) \n",
    "\n",
    "# get duals as list\n",
    "no_of_constr = len(mymodel.m.constraints)\n",
    "print('no_of_constr=' + str(no_of_constr))\n",
    "\n",
    "dual_list = np.zeros(shape=[no_of_constr])\n",
    "# note duals are defined in opposite sign as linear program codes tend to use Ax >= b where as we use g(x) <= 0\n",
    "for i in range(no_of_constr):\n",
    "    dual_list[i] = - mymodel.m.dual[mymodel.m.constraints[i+1]]\n",
    "\n",
    "print(dual_list)\n",
    "active_constr_list = [mymodel.m.constraints[i+1] for i in range(0, len(dual_list)) if dual_list[i] > 0]\n",
    "no_of_active_constr = len(active_constr_list)\n",
    "\n",
    "active_dual_list = dual_list[dual_list != 0.0]\n",
    "\n",
    "\n",
    "# get shape of M\n",
    "M_len = no_of_var + no_of_active_constr\n",
    "\n",
    "# Define M as \n",
    "# [ 0            0            c_x1_c1  c_x1_c2\n",
    "#   .            .            c_x2_c1  c_x2_c2\n",
    "#   c_x1_c1(y1)  c_x2_c1(y1)  0        0\n",
    "#   c_x1_c2(y2)  c_x2_c2(y2)  0        0        ]\n",
    "M = np.zeros(shape=[M_len, M_len])\n",
    "\n",
    "# convert outer tuple to list, then inner tuples\n",
    "for i in range(no_of_active_constr):\n",
    "    coeff_var = expr.current.decompose_term(active_constr_list[i]._body)[1]\n",
    "    coeff_var = [list(j) for j in coeff_var]\n",
    "\n",
    "    coeff_var = np.array(coeff_var)\n",
    "    coeff_var = coeff_var[:, 0].astype(float)\n",
    "\n",
    "    M[0:no_of_var, no_of_var + i] = coeff_var.T\n",
    "    M[no_of_var + i, 0:no_of_var] = coeff_var * active_dual_list[i]\n",
    "\n",
    "# Define N as matrix \n",
    "N = np.zeros(shape=[M_len, 2])\n",
    "N[no_of_var + 0, 0] = -active_dual_list[0]\n",
    "N[no_of_var + 1, 1] = -active_dual_list[1]\n",
    "\n",
    "y = np.linalg.solve(M, N)\n"
   ]
  },
  {
   "cell_type": "code",
   "execution_count": 200,
   "metadata": {},
   "outputs": [],
   "source": [
    "theta0 = np.array([6000.2, 409.84])\n",
    "constant = np.dot(-y, -theta0.T) + np.r_[[i.value for i in var_list], active_dual_list]\n",
    "slope = -y\n"
   ]
  },
  {
   "cell_type": "code",
   "execution_count": 193,
   "metadata": {},
   "outputs": [
    {
     "data": {
      "text/plain": [
       "[33442.9379310345, 7376.93103448276]"
      ]
     },
     "execution_count": 193,
     "metadata": {},
     "output_type": "execute_result"
    }
   ],
   "source": []
  },
  {
   "cell_type": "markdown",
   "metadata": {},
   "source": [
    "!!!!! Note that currently when inserting values into M in the first v rows, we still need to figure out a way to insert zero for variables that don't exist (have a coeff of 0) in a constraint. <br/>\n",
    "!!!!! Note that we still need a way to identify which theta belongs to which constraint.\n"
   ]
  }
 ],
 "metadata": {
  "kernelspec": {
   "display_name": "Python 3",
   "language": "python",
   "name": "python3"
  },
  "language_info": {
   "codemirror_mode": {
    "name": "ipython",
    "version": 3
   },
   "file_extension": ".py",
   "mimetype": "text/x-python",
   "name": "python",
   "nbconvert_exporter": "python",
   "pygments_lexer": "ipython3",
   "version": "3.6.5"
  }
 },
 "nbformat": 4,
 "nbformat_minor": 2
}
