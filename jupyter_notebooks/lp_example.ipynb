{
 "cells": [
  {
   "cell_type": "markdown",
   "id": "69e0015d",
   "metadata": {},
   "source": [
    "# mp-LP example"
   ]
  },
  {
   "cell_type": "markdown",
   "id": "bdb1916a",
   "metadata": {},
   "source": [
    "## Problem statement"
   ]
  },
  {
   "cell_type": "markdown",
   "id": "a0c5c143",
   "metadata": {},
   "source": [
    "Solve:\n",
    "\n",
    "$$\n",
    "\\begin{aligned}\n",
    "\\min \\quad & -8.1x_1-10.8x_2 \\\\\n",
    "\\textrm{s.t.} \\quad & 0.8x_1 + 0.44x_2 \\le 24000 +\\theta_1 \\\\\n",
    "& 0.05x_1 +0.1x_2\\le2000 +\\theta_2 \\\\\n",
    "& 0.1x_1 + 0.36x_2 \\le 6000 \\\\\n",
    "& x_1, x_2 \\ge 0 \\\\\n",
    "& 0 \\le \\theta_1 \\le 6000 \\\\\n",
    "& 0 \\le \\theta_2 \\le 500 \\\\\n",
    "\\end{aligned}\n",
    "$$\n",
    "\n",
    "With $x_1$, $x_2$ being optimised variables, and $\\theta_1$, $\\theta_2$ varying input parameters of the optimisation problem.\n",
    "\n",
    "We would like to find out how the optimal solution ${x_1}^\\ast$, ${x_2}^\\ast$ change when $\\theta_1$, $\\theta_2$ vary, </br>\n",
    "i.e. express ${x_1}^\\ast$, ${x_2}^\\ast$ as functions of $\\theta_1$, $\\theta_2$"
   ]
  },
  {
   "cell_type": "markdown",
   "id": "12d02007",
   "metadata": {},
   "source": [
    "## Inputs"
   ]
  },
  {
   "cell_type": "markdown",
   "id": "d23c6b89",
   "metadata": {},
   "source": [
    "Convert to a format suitable for the solver:\n",
    "\n",
    "$$\n",
    "\\begin{aligned}\n",
    "\\min \\quad & X^TQX + mX \\\\\n",
    "\\textrm{s.t.} \\quad & AX +W\\theta \\le b \\\\\n",
    "\\end{aligned}\n",
    "$$\n",
    "\n",
    "$$\n",
    "m = \\begin{bmatrix}\n",
    "    -8.1 & -10.8    \n",
    "\\end{bmatrix}\n",
    "$$\n",
    "\n",
    "$$\n",
    "A = \n",
    "\\begin{bmatrix}\n",
    "    0.8 & 0.44 \\\\\n",
    "    0.05 & 0.1 \\\\\n",
    "    0.1 & 0.36 \\\\\n",
    "    -1 & 0 \\\\\n",
    "    0 & -1 \\\\\n",
    "    0 & 0 \\\\\n",
    "    0 & 0 \\\\\n",
    "    0 & 0 \\\\\n",
    "    0 & 0 \\\\    \n",
    "\\end{bmatrix}\n",
    "W = \\begin{bmatrix}\n",
    "    -1 & 0 \\\\\n",
    "    0 & -1 \\\\\n",
    "    0 & 0 \\\\\n",
    "    0 & 0 \\\\\n",
    "    0 & 0 \\\\\n",
    "    -1 & 0 \\\\\n",
    "    1 & 0 \\\\\n",
    "    0 & -1 \\\\\n",
    "    0 & 1 \\\\    \n",
    "\\end{bmatrix}\n",
    "b = \n",
    "\\begin{bmatrix}\n",
    "    -24000 \\\\\n",
    "    2000 \\\\\n",
    "    6000 \\\\\n",
    "    0 \\\\\n",
    "    0 \\\\\n",
    "    0 \\\\\n",
    "    6000 \\\\\n",
    "    0 \\\\\n",
    "    500 \\\\    \n",
    "\\end{bmatrix}\n",
    "$$\n",
    "\n",
    "$Q$ can be ignored (linear problem)."
   ]
  },
  {
   "cell_type": "code",
   "execution_count": 32,
   "id": "a79ddc64",
   "metadata": {},
   "outputs": [],
   "source": [
    "import numpy as np\n",
    "\n",
    "A = np.array(\n",
    "    [[0.8, 0.44],\n",
    "     [0.05, 0.1],\n",
    "     [0.1, 0.36],\n",
    "     [-1.0, 0.0],\n",
    "     [0.0, -1.0],\n",
    "     [0.0, 0.0],\n",
    "     [0.0, 0.0],\n",
    "     [0.0, 0.0],\n",
    "     [0.0, 0.0]]\n",
    ")\n",
    "\n",
    "W = np.array(\n",
    "    [[-1.0, 0.0],\n",
    "     [0.0, -1.0],\n",
    "     [0.0, 0.0],\n",
    "     [0.0, 0.0],\n",
    "     [0.0, 0.0],\n",
    "     [-1.0, 0.0],\n",
    "     [1.0, 0.0],\n",
    "     [0.0, -1.0],\n",
    "     [0.0, 1.0]]\n",
    ")\n",
    "\n",
    "b = np.array(\n",
    "    [24000.0, 2000.0, 6000.0, 0.0, 0.0, 0.0, 6000.0, 0.0, 500.0]\n",
    ")\n",
    "\n",
    "m = np.array(\n",
    "    [-8.1, -10.8]\n",
    ")"
   ]
  },
  {
   "cell_type": "markdown",
   "id": "980b14f6",
   "metadata": {},
   "source": [
    "## Solve"
   ]
  },
  {
   "cell_type": "code",
   "execution_count": 33,
   "id": "14d90108",
   "metadata": {},
   "outputs": [
    {
     "name": "stdout",
     "output_type": "stream",
     "text": [
      "Number of regions = 2\n"
     ]
    }
   ],
   "source": [
    "from parametric_model.solvers.region_generator import ParametricSolver\n",
    "\n",
    "mp = ParametricSolver(A, W, b, m)\n",
    "mp.solve()\n",
    "print('Number of regions = ' + str(len(mp.regions)))\n"
   ]
  },
  {
   "cell_type": "markdown",
   "id": "a883b242",
   "metadata": {},
   "source": [
    "## Show regions"
   ]
  },
  {
   "cell_type": "markdown",
   "id": "d5623d7e",
   "metadata": {},
   "source": [
    "Make a simple function that prints out the equations for the boundaries and solutions of each region:"
   ]
  },
  {
   "cell_type": "code",
   "execution_count": 34,
   "id": "8ee8e53e",
   "metadata": {},
   "outputs": [],
   "source": [
    "np.set_printoptions(suppress=True)\n",
    "\n",
    "\n",
    "def print_boundaries(region_index):\n",
    "    \"\"\"Print the boundary and solution equations of specified region.\n",
    "    \"\"\"\n",
    "    region = mp.regions[region_index]\n",
    "    \n",
    "    # process boundary outputs\n",
    "    bound_lhs = np.concatenate(\n",
    "        (region['firm_bound_A'], region['added_bound_A']),\n",
    "        axis=0)\n",
    "    bound_rhs = np.concatenate(\n",
    "        (region['firm_bound_b'], region['added_bound_b']))\n",
    "    bound_concat = np.concatenate(\n",
    "        (bound_lhs, bound_rhs.reshape(-1, 1)),\n",
    "        axis=1)\n",
    "    \n",
    "    # process solution outputs\n",
    "    x_size = mp.x_size\n",
    "    soln_concat = np.concatenate(\n",
    "        (region['soln_A'], region['soln_b'].reshape(-1, 1)),\n",
    "        axis=1)\n",
    "    soln_concat = soln_concat[:x_size]\n",
    "    \n",
    "    # print outputs\n",
    "    print(\n",
    "        'Printing results in concatenated form for region ' \n",
    "        + str(region_index) + '...')\n",
    "    print('Boundary equations:')\n",
    "    print(np.round(bound_concat, 2))\n",
    "    print('Optimal solution:')\n",
    "    print(np.round(soln_concat, 2))\n",
    "    print()\n",
    "    "
   ]
  },
  {
   "cell_type": "markdown",
   "id": "5e655e9e",
   "metadata": {},
   "source": [
    "As there are only two varying parameters, critical regions are 2D and so can also be plotted in a chart:"
   ]
  },
  {
   "cell_type": "code",
   "execution_count": 35,
   "id": "6ce704d8",
   "metadata": {
    "scrolled": false
   },
   "outputs": [
    {
     "name": "stdout",
     "output_type": "stream",
     "text": [
      "Displaying optimal solution region map...\n"
     ]
    },
    {
     "data": {
      "image/png": "[encoded data removed]",
      "text/plain": [
       "<Figure size 504x504 with 1 Axes>"
      ]
     },
     "metadata": {
      "needs_background": "light"
     },
     "output_type": "display_data"
    },
    {
     "name": "stdout",
     "output_type": "stream",
     "text": [
      "Printing results in concatenated form for region 0...\n",
      "Boundary equations:\n",
      "[[  -1.      0.      0.  ]\n",
      " [   1.      0.   6000.  ]\n",
      " [   0.     -1.      0.  ]\n",
      " [  -0.14    4.21  896.55]]\n",
      "Optimal solution:\n",
      "[[    1.72    -7.59 26206.9 ]\n",
      " [   -0.86    13.79  6896.55]]\n",
      "\n",
      "Printing results in concatenated form for region 1...\n",
      "Boundary equations:\n",
      "[[  -1.      0.      0.  ]\n",
      " [   1.      0.   6000.  ]\n",
      " [   0.      1.    500.  ]\n",
      " [   0.14   -4.21 -896.55]]\n",
      "Optimal solution:\n",
      "[[    1.48    -0.   24590.16]\n",
      " [   -0.41    -0.    9836.07]]\n",
      "\n"
     ]
    }
   ],
   "source": [
    "import matplotlib.pyplot as plt\n",
    "\n",
    "\n",
    "plt.rcParams['figure.figsize'] = [7, 7]\n",
    "plt.rcParams.update({'font.size': 14})\n",
    "\n",
    "# use imshow to show critical regions. \n",
    "# imshow takes a mesh of points in coordinates and display an image depending \n",
    "# on the value of each point. We can take each point to be a different combo of \n",
    "# parameter values. To check if a point is in region x, run the point values \n",
    "# through the inequality boundary equations of x, and check whether all \n",
    "# inequalities are met. If so, assign the point a colour that represents that region.\n",
    "mesh_setting = 500\n",
    "mesh_x = np.linspace(0., 6000., mesh_setting)\n",
    "mesh_y = np.linspace(0., 500., mesh_setting)\n",
    "x, y = np.meshgrid(mesh_x, mesh_y)\n",
    "im_data = np.zeros((mesh_setting, mesh_setting))\n",
    "\n",
    "for r in range(len(mp.regions)):\n",
    "    region = mp.regions[r]\n",
    "    # firm bounds and added bounds refer to boundaries specified in original\n",
    "    # optimisation problem, and those generated from solving the mp. \n",
    "    # We do not need to differentiate here so put them together with concat.\n",
    "    all_bounds_A = np.concatenate(\n",
    "        (region['firm_bound_A'], region['added_bound_A']),\n",
    "        axis=0)\n",
    "    all_bounds_b = np.concatenate(\n",
    "        (region['firm_bound_b'], region['added_bound_b']))\n",
    "    \n",
    "    true_false_matrix = np.full((mesh_setting, mesh_setting), True)\n",
    "    for i in range(len(all_bounds_b)):\n",
    "        in_boundary = \\\n",
    "            all_bounds_A[i, 0] * x + all_bounds_A[i, 1] * y <= all_bounds_b[i]\n",
    "        true_false_matrix = np.logical_and(true_false_matrix, in_boundary)\n",
    "    # assign a colour number - anything works as long as can differentiate regions\n",
    "    im_data[true_false_matrix] = r/10        \n",
    "\n",
    "im = plt.imshow(\n",
    "    im_data,\n",
    "    extent=(x.min(),x.max(),y.min(),y.max()),\n",
    "    origin='lower',\n",
    "    cmap=\"Pastel1\",\n",
    "    aspect=10,\n",
    "    alpha=1\n",
    ")\n",
    "plt.annotate('region 0', xy=(3000, 100))\n",
    "plt.annotate('region 1', xy=(1500, 400))\n",
    "\n",
    "# plot boundary separating the two regions\n",
    "bound_x = np.linspace(0, 6000, 6000)\n",
    "region_0 = mp.regions[0]\n",
    "bound_y = (\n",
    "    region_0['added_bound_b'][0] - region_0['added_bound_A'][0, 0] * bound_x\n",
    ")/region_0['added_bound_A'][0, 1]\n",
    "plot_label = (\n",
    "    str(round(region_0['added_bound_A'][0, 0], 2)) + ' *θ1 + ' +\n",
    "    str(round(region_0['added_bound_A'][0, 1], 2)) + ' *θ2 = ' + \n",
    "    str(round(region_0['added_bound_b'][0], 2))\n",
    ")\n",
    "plot = plt.plot(bound_x, bound_y, label=plot_label) \n",
    "\n",
    "# other plot settings\n",
    "plt.xlim(0, mesh_x.max() * 1.05)\n",
    "plt.ylim(0, mesh_y.max() * 1.05)\n",
    "plt.xlabel(r'$\\theta_1$')\n",
    "plt.ylabel(r'$\\theta_2$')\n",
    "plt.legend()\n",
    "\n",
    "# display results\n",
    "print('Displaying optimal solution region map...')\n",
    "plt.show()\n",
    "for r in range(len(mp.regions)):\n",
    "    print_boundaries(r)"
   ]
  },
  {
   "cell_type": "markdown",
   "id": "6b45a40d",
   "metadata": {},
   "source": [
    "## Summary"
   ]
  },
  {
   "cell_type": "markdown",
   "id": "18036505",
   "metadata": {},
   "source": [
    "### Results"
   ]
  },
  {
   "cell_type": "markdown",
   "id": "0d6378b1",
   "metadata": {},
   "source": [
    "The above results means that when the values of $\\theta_1$ and $\\theta_2$ fall into region 0, </br>\n",
    "solutions of $x_1$ and $x_2$ are given by: \n",
    "\n",
    "$\n",
    "x_1 = 1.72 \\,\\theta_1 -7.59 \\, \\theta_2 + 26206.9 \\\\\n",
    "x_2 = -0.86 \\, \\theta_1 + 13.79 \\, \\theta_2 + 6896.55\n",
    "$\n",
    "\n",
    "For region 1, </br>\n",
    "solutions of $x_1$ and $x_2$ are given by: \n",
    "\n",
    "$\n",
    "x_1 = 1.48 \\, \\theta_1 + 24590.16 \\\\\n",
    "x_2 = -0.41 \\, \\theta_1 + 9836.07\n",
    "$\n"
   ]
  },
  {
   "cell_type": "markdown",
   "id": "7a955895",
   "metadata": {},
   "source": [
    "### Importance"
   ]
  },
  {
   "cell_type": "markdown",
   "id": "d7012dc6",
   "metadata": {},
   "source": [
    "The parametric solution is useful in a few ways:\n",
    "\n",
    "**Analysing optimal solution structure**\n",
    "\n",
    "- Optimal solution available as a 'policy map'.\n",
    "- We gain insight into the sensitivities of solution to parameters, and tipping points of policy changes.\n",
    "- e.g. We know that in region 1, the solution is insensitive to $\\theta_2$. We also know at which point this is no longer the case - when we cross the boundary from region 1 to 0, calculated to be $-0.14\\theta_1 + 4.21\\theta_2 = 896.55$\n",
    "\n",
    "**'You only solve once'**\n",
    "\n",
    "- We no longer need to solve the optimisation problem repeatedly to obtain optimal solutions at different input parameters.\n",
    "- Look up which region the parameter values fall into, and run the parameter values through the solution equations of that region.\n",
    "    "
   ]
  },
  {
   "cell_type": "markdown",
   "id": "3bb72755",
   "metadata": {},
   "source": [
    "## Final verification"
   ]
  },
  {
   "cell_type": "markdown",
   "id": "8924953c",
   "metadata": {},
   "source": [
    "Finally, verify the correctness of the MP solution by comparing the results from the MP against solving LP directly."
   ]
  },
  {
   "cell_type": "code",
   "execution_count": 36,
   "id": "015c93d0",
   "metadata": {},
   "outputs": [
    {
     "name": "stdout",
     "output_type": "stream",
     "text": [
      "Running tests on MP with a test size of 100...\n",
      "Tests passed. mp result matches LP for all tests.\n"
     ]
    }
   ],
   "source": [
    "from parametric_model.processing.inputs import get_zeros_rows_index\n",
    "from parametric_model.solvers.generic_solver import GenericSolver\n",
    "\n",
    "\n",
    "test_size = 100\n",
    "np.random.seed(0)\n",
    "\n",
    "    \n",
    "def compare_mp_lp(theta):\n",
    "    \"\"\"Compare MP result with LP given varying parameter theta.\n",
    "    \"\"\"\n",
    "    \n",
    "    # get optimal solution from mp\n",
    "    mp_soln = mp.get_soln(theta)\n",
    "    \n",
    "    # now solve LP\n",
    "    # with LP, we substitute actual values into θ and solve a simple LP.\n",
    "    # This means constraint rows with only θ terms are redundant. We can \n",
    "    # remove these rows from A, b and W.\n",
    "    zeros_rows = get_zeros_rows_index(A)\n",
    "    A_opt = np.delete(A, zeros_rows, axis=0)\n",
    "    b_opt = np.delete(b, zeros_rows) \n",
    "    W_opt = np.delete(W, zeros_rows, axis=0)\n",
    "    \n",
    "    # AX + Wθ <= b\n",
    "    # As θ is now a value, lump with b to form a new constant term.\n",
    "    # AX <= (b - Wθ)\n",
    "    b_minus_theta = b_opt - np.dot(W_opt, theta.reshape(mp.theta_size, -1)).reshape(-1)   \n",
    "    \n",
    "    # class 'GenericSolver' solves a direct LP/QP\n",
    "    opt = GenericSolver(A_opt, b_minus_theta, m)\n",
    "    opt.solve()\n",
    "    \n",
    "    results_match = np.allclose(mp_soln, opt.soln, rtol=0.0, atol=1e-6)\n",
    "    if results_match:\n",
    "        return True\n",
    "    else:\n",
    "        return False\n",
    "\n",
    "\n",
    "def test_mp(test_size):\n",
    "    \"\"\"Test mp against LP using randomly generated test values of theta.\n",
    "    \"\"\"\n",
    "    \n",
    "    print('Running tests on MP with a test size of ' + str(test_size) + '...')\n",
    "    \n",
    "    # create test values of θ\n",
    "    random_inputs = np.random.uniform(\n",
    "        low=0.0, \n",
    "        high=1.0, \n",
    "        size=(test_size, mp.x_size))\n",
    "    random_inputs[:, 0] = random_inputs[:, 0] * 6000.\n",
    "    random_inputs[:, 1] = random_inputs[:, 1] * 500.\n",
    "    \n",
    "    # test and save result\n",
    "    test_results = np.full((test_size), False)\n",
    "    for t in range(test_size):\n",
    "        theta = random_inputs[t, :]\n",
    "        test_results[t] = compare_mp_lp(theta)\n",
    "\n",
    "    all_tests_passed = np.all(test_results)\n",
    "    if all_tests_passed:\n",
    "        print('Tests passed. mp result matches LP for all tests.')\n",
    "    else:\n",
    "        print('Tests failed. MP result does not match LP for some tests.')\n",
    "        \n",
    "\n",
    "test_mp(test_size)"
   ]
  }
 ],
 "metadata": {
  "kernelspec": {
   "display_name": "Python 3 (ipykernel)",
   "language": "python",
   "name": "python3"
  },
  "language_info": {
   "codemirror_mode": {
    "name": "ipython",
    "version": 3
   },
   "file_extension": ".py",
   "mimetype": "text/x-python",
   "name": "python",
   "nbconvert_exporter": "python",
   "pygments_lexer": "ipython3",
   "version": "3.9.8"
  }
 },
 "nbformat": 4,
 "nbformat_minor": 5
}
