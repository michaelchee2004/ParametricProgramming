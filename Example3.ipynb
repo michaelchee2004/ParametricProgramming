{
 "cells": [
  {
   "cell_type": "markdown",
   "metadata": {},
   "source": [
    "$ max{\\,8.1x_1\\, + \\,10.8x_2} $\n",
    "$s.t.$\n",
    "$0.8$"
   ]
  },
  {
   "cell_type": "code",
   "execution_count": 1087,
   "metadata": {},
   "outputs": [],
   "source": [
    "from pyomo.environ import *\n",
    "\n",
    "class OptiModel:\n",
    "    \n",
    "    def __init__(self):\n",
    "        self.m = ConcreteModel()\n",
    "        self.m.dual = Suffix(direction=Suffix.IMPORT)\n",
    "        self.m.theta1 = Var(initialize=0.0, domain=NonNegativeReals)\n",
    "        self.m.theta2 = Var(initialize=0.0, domain=NonNegativeReals)\n",
    "        self.m.theta1.fixed = True\n",
    "        self.m.theta2.fixed = True\n",
    "        self.m.x1 = Var(domain=NonNegativeReals)\n",
    "        self.m.x2 = Var(domain=NonNegativeReals)\n",
    "        solverpath = 'C:\\\\w64\\\\glpsol'\n",
    "        self.solver = SolverFactory('glpk', executable=solverpath)\n",
    "        \n",
    "        self.m.constraints = ConstraintList()\n",
    "        constraint_list = [\n",
    "            self.c1_lhs(),\n",
    "            self.c2_lhs(),\n",
    "            self.c3_lhs()\n",
    "        ]\n",
    "        for c in constraint_list:\n",
    "            c_tuple = self.to_tuple(c)\n",
    "            self.m.constraints.add(c_tuple)\n",
    "            \n",
    "        self.m.obj = Objective(expr=self.obj_expr())\n",
    "\n",
    "        # !!! important to know if c.expr gives all constraints for indexed constraints\n",
    "        # the answer is no! See notion link.\n",
    "        \n",
    "    def c1_lhs(self):\n",
    "        return 0.8*self.m.x1 + 0.44*self.m.x2 - 24000.0 - self.m.theta1\n",
    "        \n",
    "    def c2_lhs(self):\n",
    "        return 0.05*self.m.x1 + 0.1*self.m.x2 - 2000.0 - self.m.theta2\n",
    "        \n",
    "    def c3_lhs(self):\n",
    "        return 0.1*self.m.x1 + 0.36*self.m.x2 - 6000.0\n",
    "\n",
    "    def obj_expr(self):\n",
    "        return - 8.1*self.m.x1 - 10.8*self.m.x2\n",
    "    \n",
    "    def to_tuple(self, lhs):\n",
    "        return (None, lhs, 0.0)\n",
    "        \n",
    "    def solve(self):\n",
    "        self.solver.solve(self.m, tee=True)\n",
    "    \n",
    "    def write(self):\n",
    "        print(self.m.x1.value, self.m.x2.value)"
   ]
  },
  {
   "cell_type": "code",
   "execution_count": 1088,
   "metadata": {},
   "outputs": [
    {
     "name": "stdout",
     "output_type": "stream",
     "text": [
      "GLPSOL: GLPK LP/MIP Solver, v4.65\n",
      "Parameter(s) specified in the command line:\n",
      " --write C:\\Users\\user1\\AppData\\Local\\Temp\\tmpibbal3oh.glpk.raw --wglp C:\\Users\\user1\\AppData\\Local\\Temp\\tmpahtc25sz.glpk.glp\n",
      " --cpxlp C:\\Users\\user1\\AppData\\Local\\Temp\\tmpdhwps_d0.pyomo.lp\n",
      "Reading problem data from 'C:\\Users\\user1\\AppData\\Local\\Temp\\tmpdhwps_d0.pyomo.lp'...\n",
      "4 rows, 3 columns, 7 non-zeros\n",
      "31 lines were read\n",
      "Writing problem data to 'C:\\Users\\user1\\AppData\\Local\\Temp\\tmpahtc25sz.glpk.glp'...\n",
      "23 lines were written\n",
      "GLPK Simplex Optimizer, v4.65\n",
      "4 rows, 3 columns, 7 non-zeros\n",
      "Preprocessing...\n",
      "3 rows, 2 columns, 6 non-zeros\n",
      "Scaling...\n",
      " A: min|aij| =  5.000e-02  max|aij| =  8.000e-01  ratio =  1.600e+01\n",
      "GM: min|aij| =  6.252e-01  max|aij| =  1.600e+00  ratio =  2.558e+00\n",
      "EQ: min|aij| =  3.909e-01  max|aij| =  1.000e+00  ratio =  2.558e+00\n",
      "Constructing initial basis...\n",
      "Size of triangular part is 3\n",
      "*     0: obj =   0.000000000e+00 inf =   0.000e+00 (2)\n",
      "*     2: obj =  -2.867586207e+05 inf =   0.000e+00 (0)\n",
      "OPTIMAL LP SOLUTION FOUND\n",
      "Time used:   0.0 secs\n",
      "Memory used: 0.0 Mb (40424 bytes)\n",
      "Writing basic solution to 'C:\\Users\\user1\\AppData\\Local\\Temp\\tmpibbal3oh.glpk.raw'...\n",
      "16 lines were written\n",
      "26206.8965517241 6896.55172413793\n"
     ]
    }
   ],
   "source": [
    "mymodel = OptiModel()\n",
    "mymodel.solve()\n",
    "mymodel.write()"
   ]
  },
  {
   "cell_type": "code",
   "execution_count": 1089,
   "metadata": {},
   "outputs": [
    {
     "name": "stdout",
     "output_type": "stream",
     "text": [
      "0.8*x1 + 0.44*x2 - 24000.0 - theta1  <=  0.0\n",
      "0.05*x1 + 0.1*x2 - 2000.0 - theta2  <=  0.0\n",
      "0.1*x1 + 0.36*x2 - 6000.0  <=  0.0\n",
      "constraints[1]\n"
     ]
    }
   ],
   "source": [
    "for c in mymodel.m.constraints:\n",
    "    print(mymodel.m.constraints[c].expr)\n",
    "    \n",
    "print(mymodel.m.constraints[1])"
   ]
  },
  {
   "cell_type": "code",
   "execution_count": 1090,
   "metadata": {},
   "outputs": [
    {
     "name": "stdout",
     "output_type": "stream",
     "text": [
      "dual : Direction=Suffix.IMPORT, Datatype=Suffix.FLOAT\n",
      "    Key            : Value\n",
      "    constraints[1] :  -4.6551724137931\n",
      "    constraints[2] : -87.5172413793103\n",
      "    constraints[3] :               0.0\n"
     ]
    }
   ],
   "source": [
    "# fill M, m by n matrix. \n",
    "# m is no. of variables + no. of active constraints\n",
    "# n is also no. of variables + no. of active constraints\n",
    "# so over all it must be a square matrix.\n",
    "\n",
    "i = 1\n",
    "# print(mymodel.m.constraints[i]._body)\n",
    "mymodel.m.dual.display()#\n",
    "# print(list(mymodel.m.component_data_objects(Var)))\n",
    "# expr.current.decompose_term((mymodel.m.constraints[i]._body))\n",
    "# list(mymodel.m.dual\n"
   ]
  },
  {
   "cell_type": "code",
   "execution_count": 1091,
   "metadata": {},
   "outputs": [
    {
     "name": "stdout",
     "output_type": "stream",
     "text": [
      "no_of_var=2\n",
      "no_of_constr=3\n",
      "[ 4.65517241 87.51724138 -0.        ]\n"
     ]
    }
   ],
   "source": [
    "import numpy as np\n",
    "\n",
    "# get no of variables\n",
    "var_list = list(mymodel.m.component_data_objects(Var))\n",
    "no_of_var = len(var_list) -2\n",
    "print('no_of_var=' + str(no_of_var)) \n",
    "\n",
    "# get duals as list\n",
    "no_of_constr = len(mymodel.m.constraints)\n",
    "print('no_of_constr=' + str(no_of_constr))\n",
    "\n",
    "dual_list = np.zeros(shape=[no_of_constr])\n",
    "# note duals are defined in opposite sign as linear program codes tend to use Ax >= b where as we use g(x) <= 0\n",
    "for i in range(no_of_constr):\n",
    "    dual_list[i] = - mymodel.m.dual[mymodel.m.constraints[i+1]]\n",
    "\n",
    "print(dual_list)\n",
    "active_constr_list = [mymodel.m.constraints[i+1] for i in range(0, len(dual_list)) if dual_list[i] > 0]\n",
    "no_of_active_constr = len(active_constr_list)\n",
    "\n",
    "active_dual_list = dual_list[dual_list != 0.0]\n",
    "\n",
    "\n",
    "# get shape of M\n",
    "M_len = no_of_var + no_of_active_constr\n",
    "\n",
    "# Define M as \n",
    "# [ 0            0            c_x1_c1  c_x1_c2\n",
    "#   .            .            c_x2_c1  c_x2_c2\n",
    "#   c_x1_c1(y1)  c_x2_c1(y1)  0        0\n",
    "#   c_x1_c2(y2)  c_x2_c2(y2)  0        0        ]\n",
    "M = np.zeros(shape=[M_len, M_len])\n",
    "\n",
    "# convert outer tuple to list, then inner tuples\n",
    "for i in range(no_of_active_constr):\n",
    "    coeff_var = expr.current.decompose_term(active_constr_list[i]._body)[1]\n",
    "    coeff_var = [list(j) for j in coeff_var]\n",
    "\n",
    "    coeff_var = np.array(coeff_var)\n",
    "    coeff_var = coeff_var[:, 0].astype(float)\n",
    "    \n",
    "    # note below we pick 0:2 because we know the first two terms in each constraint is x1 and x2.\n",
    "    # For more complicated constraints this method doesn't scale well\n",
    "    M[0:no_of_var, no_of_var + i] = coeff_var.T[0:2]\n",
    "    M[no_of_var + i, 0:no_of_var] = coeff_var[0:2] * active_dual_list[i]\n",
    "\n",
    "# Define N as matrix \n",
    "N = np.zeros(shape=[M_len, 2])\n",
    "N[no_of_var + 0, 0] = -active_dual_list[0]\n",
    "N[no_of_var + 1, 1] = -active_dual_list[1]\n",
    "\n",
    "y = np.linalg.solve(M, N)\n"
   ]
  },
  {
   "cell_type": "code",
   "execution_count": 1092,
   "metadata": {},
   "outputs": [
    {
     "data": {
      "text/plain": [
       "[(0.8, <pyomo.core.base.var.SimpleVar at 0x1e8ee59f588>),\n",
       " (0.44, <pyomo.core.base.var.SimpleVar at 0x1e8ee59f2e8>),\n",
       " (-24000.0, None),\n",
       " (-1, <pyomo.core.base.var.SimpleVar at 0x1e8ee59f898>)]"
      ]
     },
     "execution_count": 1092,
     "metadata": {},
     "output_type": "execute_result"
    }
   ],
   "source": [
    "coeff_var = expr.current.decompose_term(active_constr_list[0]._body)[1]\n",
    "coeff_var"
   ]
  },
  {
   "cell_type": "code",
   "execution_count": 1093,
   "metadata": {},
   "outputs": [
    {
     "name": "stdout",
     "output_type": "stream",
     "text": [
      "[0. 0.]\n"
     ]
    }
   ],
   "source": [
    "theta0 = np.array([mymodel.m.theta1.value, mymodel.m.theta2.value])\n",
    "print(theta0)\n",
    "constant = np.dot(-y, -theta0.T) + np.r_[[i.value for i in var_list if i.name!='theta1' and i.name!='theta2'], active_dual_list]\n",
    "slope = -y\n"
   ]
  },
  {
   "cell_type": "code",
   "execution_count": 1094,
   "metadata": {},
   "outputs": [
    {
     "data": {
      "text/plain": [
       "array([[ 1.72413793, -7.5862069 ],\n",
       "       [-0.86206897, 13.79310345],\n",
       "       [-0.        , -0.        ],\n",
       "       [-0.        , -0.        ]])"
      ]
     },
     "execution_count": 1094,
     "metadata": {},
     "output_type": "execute_result"
    }
   ],
   "source": [
    "slope"
   ]
  },
  {
   "cell_type": "code",
   "execution_count": 1095,
   "metadata": {},
   "outputs": [
    {
     "data": {
      "text/plain": [
       "array([2.62068966e+04, 6.89655172e+03, 4.65517241e+00, 8.75172414e+01])"
      ]
     },
     "execution_count": 1095,
     "metadata": {},
     "output_type": "execute_result"
    }
   ],
   "source": [
    "constant"
   ]
  },
  {
   "cell_type": "code",
   "execution_count": 1096,
   "metadata": {},
   "outputs": [
    {
     "data": {
      "text/plain": [
       "1.7241379310344827"
      ]
     },
     "execution_count": 1096,
     "metadata": {},
     "output_type": "execute_result"
    }
   ],
   "source": [
    "value(slope[0][0])"
   ]
  },
  {
   "cell_type": "code",
   "execution_count": 1097,
   "metadata": {},
   "outputs": [],
   "source": [
    "mymodel.m.theta1.fixed = False\n",
    "mymodel.m.theta2.fixed = False\n",
    "mymodel.m.x1.fixed = True\n",
    "mymodel.m.x2.fixed = True\n",
    "\n",
    "expr_x1 = mymodel.m.theta1 * slope[0][0] + mymodel.m.theta2 * slope[0][1] + constant[0]\n",
    "expr_x2 = mymodel.m.theta1 * slope[1][0] + mymodel.m.theta2 * slope[1][1] + constant[1]\n",
    "\n",
    "# variable needs to be before its coefficient, see bug https://github.com/Pyomo/pyomo/issues/31\n",
    "# mymodel.m.constraints.add(mymodel.m.x1 == mymodel.m.theta1 * slope[0][0] + mymodel.m.theta2 * slope[0][1] + constant[0])\n",
    "# mymodel.m.constraints.add(mymodel.m.x2 == mymodel.m.theta1 * slope[1][0] + mymodel.m.theta2 * slope[1][1] + constant[1])\n",
    "mymodel.m.constraints.add(\n",
    "    0.1 * expr_x1 + 0.36 * expr_x2 - 6000.0 <= 0.0\n",
    ")\n",
    "# mymodel.m.constraints[1].deactivate()\n",
    "# mymodel.m.constraints[2].deactivate()\n",
    "mymodel.m.constraints[3].deactivate()\n",
    "# mymodel.m.constraints.add(mymodel.to_tuple(mymodel.m.theta1 - 6000.0))\n",
    "mymodel.m.constraints.add(mymodel.to_tuple(mymodel.m.theta2 - 500.0))\n",
    "mymodel.m.obj.deactivate()\n",
    "# mymodel.c3_lhs()\n",
    "mymodel.m.obj2 = Objective(\n",
    "    expr=0.1 * expr_x1 + 0.36 * expr_x2 - 6000.0\n",
    ")\n",
    "\n",
    "mymodel.m.obj2.sense = maximize\n",
    "mymodel.m.theta1.fixed = False\n",
    "mymodel.m.theta2.fixed = False\n",
    "mymodel.m.x1.fixed = True\n",
    "mymodel.m.x2.fixed = True"
   ]
  },
  {
   "cell_type": "code",
   "execution_count": 1098,
   "metadata": {},
   "outputs": [
    {
     "data": {
      "text/plain": [
       "<pyomo.core.expr.expr_pyomo5.SumExpression at 0x1e8f28ee288>"
      ]
     },
     "execution_count": 1098,
     "metadata": {},
     "output_type": "execute_result"
    }
   ],
   "source": [
    "mymodel.m.obj.expr"
   ]
  },
  {
   "cell_type": "code",
   "execution_count": 1099,
   "metadata": {},
   "outputs": [
    {
     "name": "stdout",
     "output_type": "stream",
     "text": [
      "GLPSOL: GLPK LP/MIP Solver, v4.65\n",
      "Parameter(s) specified in the command line:\n",
      " --write C:\\Users\\user1\\AppData\\Local\\Temp\\tmpowbxedg5.glpk.raw --wglp C:\\Users\\user1\\AppData\\Local\\Temp\\tmpdoyl2upp.glpk.glp\n",
      " --cpxlp C:\\Users\\user1\\AppData\\Local\\Temp\\tmp55rv9grm.pyomo.lp\n",
      "Reading problem data from 'C:\\Users\\user1\\AppData\\Local\\Temp\\tmp55rv9grm.pyomo.lp'...\n",
      "5 rows, 3 columns, 6 non-zeros\n",
      "34 lines were read\n",
      "Writing problem data to 'C:\\Users\\user1\\AppData\\Local\\Temp\\tmpdoyl2upp.glpk.glp'...\n",
      "25 lines were written\n",
      "GLPK Simplex Optimizer, v4.65\n",
      "5 rows, 3 columns, 6 non-zeros\n",
      "Preprocessing...\n",
      "1 row, 2 columns, 2 non-zeros\n",
      "Scaling...\n",
      " A: min|aij| =  1.379e-01  max|aij| =  4.207e+00  ratio =  3.050e+01\n",
      "Problem data seem to be well scaled\n",
      "Constructing initial basis...\n",
      "Size of triangular part is 1\n",
      "*     0: obj =  -8.965517241e+02 inf =   0.000e+00 (1)\n",
      "*     1: obj =  -0.000000000e+00 inf =   0.000e+00 (0)\n",
      "OPTIMAL LP SOLUTION FOUND\n",
      "Time used:   0.0 secs\n",
      "Memory used: 0.0 Mb (40400 bytes)\n",
      "Writing basic solution to 'C:\\Users\\user1\\AppData\\Local\\Temp\\tmpowbxedg5.glpk.raw'...\n",
      "17 lines were written\n"
     ]
    }
   ],
   "source": [
    "mymodel.solve()"
   ]
  },
  {
   "cell_type": "code",
   "execution_count": 1100,
   "metadata": {},
   "outputs": [
    {
     "name": "stdout",
     "output_type": "stream",
     "text": [
      "0.8*x1 + 0.44*x2 - 24000.0 - theta1  <=  0.0\n",
      "0.05*x1 + 0.1*x2 - 2000.0 - theta2  <=  0.0\n",
      "0.1*x1 + 0.36*x2 - 6000.0  <=  0.0\n",
      "0.1*(1.7241379310344827*theta1 - 7.586206896551724*theta2 + 26206.8965517241) + 0.36*(-0.8620689655172413*theta1 + 13.793103448275861*theta2 + 6896.55172413793) - 6000.0  <=  0.0\n",
      "theta2 - 500.0  <=  0.0\n"
     ]
    },
    {
     "data": {
      "text/plain": [
       "-896.5517241379348"
      ]
     },
     "execution_count": 1100,
     "metadata": {},
     "output_type": "execute_result"
    }
   ],
   "source": [
    "for c in mymodel.m.constraints:\n",
    "    print(mymodel.m.constraints[c].expr)\n",
    "    \n",
    "value(mymodel.c3_lhs())"
   ]
  },
  {
   "cell_type": "code",
   "execution_count": 1101,
   "metadata": {},
   "outputs": [
    {
     "data": {
      "text/plain": [
       "1.8189894035458565e-12"
      ]
     },
     "execution_count": 1101,
     "metadata": {},
     "output_type": "execute_result"
    }
   ],
   "source": [
    "value(0.1 * expr_x1 + 0.36 * expr_x2 - 6000.0)"
   ]
  },
  {
   "cell_type": "code",
   "execution_count": 1102,
   "metadata": {},
   "outputs": [
    {
     "data": {
      "text/plain": [
       "-896.5517241379348"
      ]
     },
     "execution_count": 1102,
     "metadata": {},
     "output_type": "execute_result"
    }
   ],
   "source": [
    "value(\n",
    "    mymodel.c3_lhs()\n",
    ")"
   ]
  },
  {
   "cell_type": "code",
   "execution_count": null,
   "metadata": {},
   "outputs": [],
   "source": []
  },
  {
   "cell_type": "markdown",
   "metadata": {},
   "source": [
    "!!!!! Note that currently when inserting values into M in the first v rows, we still need to figure out a way to insert zero for variables that don't exist (have a coeff of 0) in a constraint. <br/>\n",
    "!!!!! Note that we still need a way to identify which theta belongs to which constraint.\n",
    "!!!!! Note there is a challenge substituting x(theta) into the constraints. Need another generic code for that.\n",
    "!!!!! Note we need to figure out a generic way to flip constraints. Probably we need to do it for subsequently added constraints. So that means these constraints, and also others, all need to come in the form of expr, inside the object. \n",
    "- Not sure how that's gonna work, probably need to have a list of expr\n",
    "- This list of expr needs to be linked to the constraintlsit, so deactivations, etc. manipulations work."
   ]
  }
 ],
 "metadata": {
  "kernelspec": {
   "display_name": "Python 3",
   "language": "python",
   "name": "python3"
  },
  "language_info": {
   "codemirror_mode": {
    "name": "ipython",
    "version": 3
   },
   "file_extension": ".py",
   "mimetype": "text/x-python",
   "name": "python",
   "nbconvert_exporter": "python",
   "pygments_lexer": "ipython3",
   "version": "3.6.5"
  }
 },
 "nbformat": 4,
 "nbformat_minor": 2
}
